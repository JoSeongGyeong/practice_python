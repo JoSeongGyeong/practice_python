{
 "cells": [
  {
   "cell_type": "code",
   "execution_count": 1,
   "metadata": {
    "collapsed": true
   },
   "outputs": [],
   "source": [
    "# 목요일 배울 내용\n",
    "# [function]  \n",
    "# - stack frame\n",
    "# - call by value\n",
    "# - call by referance\n",
    "# - call by object reference (call by assignment)\n",
    "# numbers\n",
    "    # decimal, binary, hexdecimal"
   ]
  },
  {
   "cell_type": "code",
   "execution_count": 2,
   "metadata": {
    "collapsed": true
   },
   "outputs": [],
   "source": [
    "# 금요일 배울 내용\n",
    " # integer\n",
    "        # positive\n",
    "        # negative  two's complement\n",
    "    # floating point number\n",
    "        # float\n",
    "        # double\n",
    "        # precision\n",
    "# string\n",
    "    # ASCII\n",
    "    # UNICODE\n",
    "        # UTF-8\n",
    "        # UTF-16 등등"
   ]
  },
  {
   "cell_type": "code",
   "execution_count": 3,
   "metadata": {},
   "outputs": [
    {
     "name": "stdout",
     "output_type": "stream",
     "text": [
      "x : 20 in change_value\n",
      "x : 10 in change_value\n"
     ]
    }
   ],
   "source": [
    "def change_value(x, value):\n",
    "    x = value\n",
    "    print(\"x : {} in change_value\".format(x))\n",
    "    \n",
    "x = 10\n",
    "change_value(x, 20)\n",
    "print(\"x : {} in change_value\".format(x))"
   ]
  },
  {
   "cell_type": "code",
   "execution_count": 7,
   "metadata": {},
   "outputs": [
    {
     "name": "stdout",
     "output_type": "stream",
     "text": [
      "['I am your father!', 2, 3, 4]\n",
      "['I am your father!', 2, 3, 4]\n"
     ]
    }
   ],
   "source": [
    "#위와 같다면 파이썬은 콜바이밸류인거야... 그럼 다시 테스트\n",
    "def change_value(li, idx, value):\n",
    "    li[idx] = value\n",
    "    print(li)\n",
    "    \n",
    "li = [1,2,3,4]\n",
    "change_value(li, 0, \"I am your father!\")\n",
    "print(li)"
   ]
  },
  {
   "cell_type": "code",
   "execution_count": 8,
   "metadata": {
    "collapsed": true
   },
   "outputs": [],
   "source": [
    "#콜바이레퍼런스인가? 그러면 둘다 아닌거야? ㅠㅠ"
   ]
  },
  {
   "cell_type": "code",
   "execution_count": 9,
   "metadata": {},
   "outputs": [
    {
     "name": "stdout",
     "output_type": "stream",
     "text": [
      "x : 20 in change_value\n",
      "x : 10 in change_value\n"
     ]
    }
   ],
   "source": [
    "def change_value(x, value):\n",
    "    x = value\n",
    "    print(\"x : {} in change_value\".format(x))\n",
    "    \n",
    "x = 10\n",
    "change_value(x, 20)\n",
    "print(\"x : {} in change_value\".format(x))"
   ]
  },
  {
   "cell_type": "code",
   "execution_count": 10,
   "metadata": {
    "collapsed": true
   },
   "outputs": [],
   "source": [
    "# 아!! mutable은 다 변경이 가능한 거구나?????  그러나..."
   ]
  },
  {
   "cell_type": "code",
   "execution_count": 12,
   "metadata": {},
   "outputs": [
    {
     "name": "stdout",
     "output_type": "stream",
     "text": [
      "['I am your father!', 2, 3, 4]\n",
      "[1, 2, 3, 4]\n"
     ]
    }
   ],
   "source": [
    "def change_value(li):\n",
    "    li = ['I am your father!', 2, 3, 4]\n",
    "    print(li)\n",
    "    \n",
    "li = [1,2,3,4]\n",
    "change_value(li)\n",
    "print(li)"
   ]
  },
  {
   "cell_type": "code",
   "execution_count": 13,
   "metadata": {
    "collapsed": true
   },
   "outputs": [],
   "source": [
    "# 그러면 메모리에 새롭게 할당하여 값을 정하느냐... 아니면 기존 메모리에 값만 오버라이드하냐를 구분하는 것이 중요핟.\n",
    "# 따라서 뭔가 만들어 놓고 그것을 통하여 바꾸는 것이 방법이다."
   ]
  },
  {
   "cell_type": "code",
   "execution_count": 14,
   "metadata": {
    "collapsed": true
   },
   "outputs": [],
   "source": [
    "# C / C++ 힙에 생긴 메모리 내용들은 그냥 계속 쌓임.. memory leak이 발생함.. 따라서 프로그래머가 직접 지워줘야 함.\n",
    "# python 존재의 이유는 레퍼런스 카운터...몇개... 만약 0이 되면 스스로 사라짐... 존재의 이유가 없으니까..  가비지 컬렉션.."
   ]
  },
  {
   "cell_type": "code",
   "execution_count": 15,
   "metadata": {
    "collapsed": true
   },
   "outputs": [],
   "source": [
    "# 메모리 관리하는 종류들  :: mark and save // stop adn cope  //  refernce count"
   ]
  },
  {
   "cell_type": "code",
   "execution_count": 18,
   "metadata": {},
   "outputs": [],
   "source": [
    "import sys\n",
    "s = \"I am your Father!\""
   ]
  },
  {
   "cell_type": "code",
   "execution_count": 19,
   "metadata": {},
   "outputs": [
    {
     "data": {
      "text/plain": [
       "2"
      ]
     },
     "execution_count": 19,
     "metadata": {},
     "output_type": "execute_result"
    }
   ],
   "source": [
    "sys.getrefcount(s)   # 참조하는 getrefcount(s)가 검사하는 것도 카운터됨... 그러니까.. -1해야 함..."
   ]
  },
  {
   "cell_type": "code",
   "execution_count": 20,
   "metadata": {
    "collapsed": true
   },
   "outputs": [],
   "source": [
    "b = s"
   ]
  },
  {
   "cell_type": "code",
   "execution_count": 21,
   "metadata": {},
   "outputs": [
    {
     "data": {
      "text/plain": [
       "3"
      ]
     },
     "execution_count": 21,
     "metadata": {},
     "output_type": "execute_result"
    }
   ],
   "source": [
    "sys.getrefcount(s)   # 참조하는 getrefcount(s)가 검사하는 것도 카운터됨... 그러니까.. -1해야 함..."
   ]
  },
  {
   "cell_type": "code",
   "execution_count": 22,
   "metadata": {},
   "outputs": [
    {
     "data": {
      "text/plain": [
       "3"
      ]
     },
     "execution_count": 22,
     "metadata": {},
     "output_type": "execute_result"
    }
   ],
   "source": [
    "sys.getrefcount(s)   # 참조하는 getrefcount(s)가 검사하는 것도 카운터됨... 그러니까.. -1해야 함..."
   ]
  },
  {
   "cell_type": "code",
   "execution_count": 23,
   "metadata": {
    "collapsed": true
   },
   "outputs": [],
   "source": [
    "del b"
   ]
  },
  {
   "cell_type": "code",
   "execution_count": 24,
   "metadata": {},
   "outputs": [
    {
     "data": {
      "text/plain": [
       "2"
      ]
     },
     "execution_count": 24,
     "metadata": {},
     "output_type": "execute_result"
    }
   ],
   "source": [
    "sys.getrefcount(s)   # 참조하는 getrefcount(s)가 검사하는 것도 카운터됨... 그러니까.. -1해야 함..."
   ]
  },
  {
   "cell_type": "code",
   "execution_count": 27,
   "metadata": {
    "collapsed": true
   },
   "outputs": [],
   "source": [
    "s = 1"
   ]
  },
  {
   "cell_type": "code",
   "execution_count": 28,
   "metadata": {},
   "outputs": [
    {
     "data": {
      "text/plain": [
       "2404"
      ]
     },
     "execution_count": 28,
     "metadata": {},
     "output_type": "execute_result"
    }
   ],
   "source": [
    "sys.getrefcount(s)   # 참조하는 것이 많은 이유는 ㅋㅋ  파이선이 objectpool기법을 사용하기 때문이다."
   ]
  },
  {
   "cell_type": "code",
   "execution_count": 31,
   "metadata": {},
   "outputs": [],
   "source": [
    "#mutable\n",
    "def func(li):\n",
    "    li[0] = 10\n",
    "    \n",
    "li = [ 1, 2, 3, 4]\n",
    "func(li)"
   ]
  },
  {
   "cell_type": "code",
   "execution_count": 32,
   "metadata": {},
   "outputs": [
    {
     "data": {
      "text/plain": [
       "[10, 2, 3, 4]"
      ]
     },
     "execution_count": 32,
     "metadata": {},
     "output_type": "execute_result"
    }
   ],
   "source": [
    "li"
   ]
  },
  {
   "cell_type": "code",
   "execution_count": 33,
   "metadata": {
    "collapsed": true
   },
   "outputs": [],
   "source": [
    "#결국 레퍼런스 참조를 시도하고자 한다면 모든 정보가 새롭게 할당되지 않도록 주의하면 될 것 같다.\n",
    "# 아래와 같이 하면 안된다. 위와 같이 해야지..."
   ]
  },
  {
   "cell_type": "code",
   "execution_count": 34,
   "metadata": {
    "collapsed": true
   },
   "outputs": [],
   "source": [
    "#mutable\n",
    "def func(li):\n",
    "    li = [10, 2, 3, 4]\n",
    "    \n",
    "li = [ 1, 2, 3, 4]\n",
    "func(li)   ## 안바뀜... "
   ]
  },
  {
   "cell_type": "code",
   "execution_count": 35,
   "metadata": {},
   "outputs": [
    {
     "data": {
      "text/plain": [
       "[1, 2, 3, 4]"
      ]
     },
     "execution_count": 35,
     "metadata": {},
     "output_type": "execute_result"
    }
   ],
   "source": [
    "li"
   ]
  },
  {
   "cell_type": "code",
   "execution_count": 37,
   "metadata": {},
   "outputs": [
    {
     "name": "stdout",
     "output_type": "stream",
     "text": [
      "20\n",
      "10\n"
     ]
    }
   ],
   "source": [
    "# 숫자로 살펴보자.  # Call by sssingmnet\n",
    "def func(a):\n",
    "    a = 20\n",
    "    print(a)\n",
    "    \n",
    "x = 10\n",
    "func(x)\n",
    "print(x)"
   ]
  },
  {
   "cell_type": "code",
   "execution_count": 38,
   "metadata": {},
   "outputs": [
    {
     "data": {
      "text/plain": [
       "'abc'"
      ]
     },
     "execution_count": 38,
     "metadata": {},
     "output_type": "execute_result"
    }
   ],
   "source": [
    "#그러면 해결하는 방법 2가지... 하나는 함수 리턴값으로 받아서 바꾸라... \n",
    "#아니면.. 이것은 내 생각임...  두가지 단계를 거쳐라... 즉 리스트의 인덱스로 하나만 지정해서 바꾸고 리스트 전체로 찾아가라.. \n",
    "def change_value(x):\n",
    "    x = \"abc\"\n",
    "    return x \n",
    "\n",
    "x = \"aaa\"\n",
    "x = change_value(x)\n",
    "x"
   ]
  },
  {
   "cell_type": "code",
   "execution_count": 39,
   "metadata": {
    "collapsed": true
   },
   "outputs": [],
   "source": [
    "# 함수 안으로 들어 갔을 때...\n",
    "#1. muterble\n",
    "    #1) 요소를 바꾼다. ==> 변경 OK\n",
    "    #2) 리스트를 통째로 바군다. ==> 변경 X\n",
    "#2. immutable (상수, string, tuple)\n",
    "    # 그냥 변경 안돼.    "
   ]
  },
  {
   "cell_type": "code",
   "execution_count": 40,
   "metadata": {
    "collapsed": true
   },
   "outputs": [],
   "source": [
    "# 십진수 : 0,1,2,3,4,5,6,7,8,9\n",
    "#  10 -> base, radix, 기수\n",
    "# a 1010    b 1011   c 1100 d 1101  e 1110    f 1111\n",
    "# binary 0b  //   hex  0x35    35h   35(16)"
   ]
  },
  {
   "cell_type": "code",
   "execution_count": 41,
   "metadata": {
    "collapsed": true
   },
   "outputs": [],
   "source": [
    "a = 10\n",
    "b = 0xfa  # 250임... "
   ]
  },
  {
   "cell_type": "code",
   "execution_count": 43,
   "metadata": {},
   "outputs": [
    {
     "data": {
      "text/plain": [
       "250"
      ]
     },
     "execution_count": 43,
     "metadata": {},
     "output_type": "execute_result"
    }
   ],
   "source": [
    "b"
   ]
  },
  {
   "cell_type": "code",
   "execution_count": 44,
   "metadata": {},
   "outputs": [
    {
     "data": {
      "text/plain": [
       "250"
      ]
     },
     "execution_count": 44,
     "metadata": {},
     "output_type": "execute_result"
    }
   ],
   "source": [
    "c = 0b11111010\n",
    "c"
   ]
  },
  {
   "cell_type": "code",
   "execution_count": 45,
   "metadata": {},
   "outputs": [
    {
     "data": {
      "text/plain": [
       "'0b11001'"
      ]
     },
     "execution_count": 45,
     "metadata": {},
     "output_type": "execute_result"
    }
   ],
   "source": [
    "d = 25\n",
    "bin(25)   #바이너리로 보기"
   ]
  },
  {
   "cell_type": "code",
   "execution_count": 46,
   "metadata": {},
   "outputs": [
    {
     "data": {
      "text/plain": [
       "'0x19'"
      ]
     },
     "execution_count": 46,
     "metadata": {},
     "output_type": "execute_result"
    }
   ],
   "source": [
    "hex(d)  #16진수로 보기"
   ]
  },
  {
   "cell_type": "code",
   "execution_count": 53,
   "metadata": {},
   "outputs": [
    {
     "data": {
      "text/plain": [
       "'0x7796c810'"
      ]
     },
     "execution_count": 53,
     "metadata": {},
     "output_type": "execute_result"
    }
   ],
   "source": [
    "hex(id(a))  #a의 메모리 주소를 나타냄..."
   ]
  },
  {
   "cell_type": "code",
   "execution_count": 52,
   "metadata": {
    "collapsed": true
   },
   "outputs": [],
   "source": [
    "a = 12"
   ]
  },
  {
   "cell_type": "code",
   "execution_count": null,
   "metadata": {
    "collapsed": true
   },
   "outputs": [],
   "source": []
  }
 ],
 "metadata": {
  "kernelspec": {
   "display_name": "Python 3",
   "language": "python",
   "name": "python3"
  },
  "language_info": {
   "codemirror_mode": {
    "name": "ipython",
    "version": 3
   },
   "file_extension": ".py",
   "mimetype": "text/x-python",
   "name": "python",
   "nbconvert_exporter": "python",
   "pygments_lexer": "ipython3",
   "version": "3.6.2"
  }
 },
 "nbformat": 4,
 "nbformat_minor": 2
}
