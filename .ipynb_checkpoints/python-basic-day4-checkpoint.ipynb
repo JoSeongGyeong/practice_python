{
 "cells": [
  {
   "cell_type": "code",
   "execution_count": 2,
   "metadata": {},
   "outputs": [
    {
     "name": "stdout",
     "output_type": "stream",
     "text": [
      "11\n"
     ]
    }
   ],
   "source": [
    "# 아주 멋진 Awe-sum함수 만들기\n",
    "\n",
    "def awe_sum(a,b):\n",
    "    result = a+b\n",
    "    return result \n",
    "\n",
    "print (awe_sum(5,6))"
   ]
  },
  {
   "cell_type": "code",
   "execution_count": 5,
   "metadata": {},
   "outputs": [
    {
     "name": "stdout",
     "output_type": "stream",
     "text": [
      "88\n"
     ]
    }
   ],
   "source": [
    "# 더 멋진 Awe-sum함수 만들기\n",
    "import random\n",
    "\n",
    "def awe_sum(a,b):\n",
    "    result = 0\n",
    "    result = a + b\n",
    "    return result \n",
    "\n",
    "\n",
    "a = random.randint(1,100)\n",
    "b = random.randint(1,100)\n",
    "print (awe_sum(a,b))"
   ]
  },
  {
   "cell_type": "code",
   "execution_count": 11,
   "metadata": {},
   "outputs": [
    {
     "data": {
      "text/plain": [
       "'hello'"
      ]
     },
     "execution_count": 11,
     "metadata": {},
     "output_type": "execute_result"
    }
   ],
   "source": [
    "# input이 없는 함수 만들기\n",
    "\n",
    "def print_hello():\n",
    "    return \"hello\"\n",
    "    \n",
    "print_hello()\n"
   ]
  },
  {
   "cell_type": "code",
   "execution_count": 20,
   "metadata": {},
   "outputs": [
    {
     "name": "stdout",
     "output_type": "stream",
     "text": [
      "hello\n"
     ]
    }
   ],
   "source": [
    "a = print_hello()\n",
    "print(a)"
   ]
  },
  {
   "cell_type": "code",
   "execution_count": 18,
   "metadata": {},
   "outputs": [
    {
     "name": "stdout",
     "output_type": "stream",
     "text": [
      "hi, this is 나야나 without return.\n"
     ]
    }
   ],
   "source": [
    "# with out => w/o\n",
    "def func_wo_return(a):\n",
    "    print(\"hi, this is \" + str(a) + \" without return.\")\n",
    "    \n",
    "func_wo_return(\"나야나\")"
   ]
  },
  {
   "cell_type": "code",
   "execution_count": 21,
   "metadata": {},
   "outputs": [
    {
     "data": {
      "text/plain": [
       "(23, 123)"
      ]
     },
     "execution_count": 21,
     "metadata": {},
     "output_type": "execute_result"
    }
   ],
   "source": [
    "# function with mutiple return\n",
    "\n",
    "def mul_return(a):\n",
    "    b = 0\n",
    "    b = a  + 100\n",
    "    return a, b\n",
    "\n",
    "mul_return(23)\n",
    "\n",
    "# 나올 때 tuple의 형태로 나오게 됨"
   ]
  },
  {
   "cell_type": "code",
   "execution_count": 24,
   "metadata": {},
   "outputs": [
    {
     "name": "stdout",
     "output_type": "stream",
     "text": [
      "invalid id: admin\n"
     ]
    }
   ],
   "source": [
    "# return 사용의 실제\n",
    "\n",
    "def id_check(id):\n",
    "    if id == \"admin\":\n",
    "        print(\"invalid id: admin\")\n",
    "        return\n",
    "    print(\"valid id: \", id)\n",
    "    \n",
    "id_check(\"admin\")"
   ]
  },
  {
   "cell_type": "code",
   "execution_count": 25,
   "metadata": {},
   "outputs": [
    {
     "name": "stdout",
     "output_type": "stream",
     "text": [
      "valid id:  Jo\n"
     ]
    }
   ],
   "source": [
    "def id_check(id):\n",
    "    if id == \"admin\":\n",
    "        print(\"invalid id: admin\")\n",
    "        return\n",
    "    print(\"valid id: \", id)\n",
    "    \n",
    "id_check(\"Jo\")"
   ]
  },
  {
   "cell_type": "code",
   "execution_count": 28,
   "metadata": {},
   "outputs": [
    {
     "name": "stdout",
     "output_type": "stream",
     "text": [
      "Hi,  Fool\n",
      "야, 이 바보야.\n",
      "Hi,  Hong\n",
      "야, 이 바보야.\n",
      "Hi,  Jo\n",
      "오, 멋짐 폭발!\n"
     ]
    }
   ],
   "source": [
    "#초기화된 매개변수를 갖고 싶을 때\n",
    "def say_hello(name = \"Fool\", nick = True):\n",
    "    print(\"Hi, \", name)\n",
    "    if nick == True:\n",
    "        print(\"야, 이 바보야.\")\n",
    "    else:\n",
    "        print(\"오, 멋짐 폭발!\")\n",
    "        \n",
    "say_hello()\n",
    "say_hello(\"Hong\")\n",
    "say_hello(\"Jo\", False)\n",
    "    "
   ]
  },
  {
   "cell_type": "code",
   "execution_count": 32,
   "metadata": {},
   "outputs": [
    {
     "data": {
      "text/plain": [
       "650"
      ]
     },
     "execution_count": 32,
     "metadata": {},
     "output_type": "execute_result"
    }
   ],
   "source": [
    "#arguments  : 매개변수가 여러개가 될 수 있다.(리스트 형태로 들어옴)\n",
    "def mul_sum(*nums):\n",
    "    result = 0\n",
    "    for num in nums:\n",
    "        result += num\n",
    "    return result\n",
    "    \n",
    "mul_sum(100, 234, 56, 34, 56, 75, 95)"
   ]
  },
  {
   "cell_type": "code",
   "execution_count": 39,
   "metadata": {},
   "outputs": [
    {
     "name": "stdout",
     "output_type": "stream",
     "text": [
      "{'하우': 5, 'b': '하이'}\n"
     ]
    }
   ],
   "source": [
    "# keyword arguments *이 붙어있으면 키워드 아규먼트츠이다. **은 쓰임새가 약간다르다.\n",
    "#**는 딕셔너리형태로 값이 저장됨  확장가능한 변수값은 맨 뒤에 받아야 함.\n",
    "\n",
    "def show_kwargs(**kwargs):\n",
    "    print(str(kwargs))\n",
    "    \n",
    "show_kwargs(하우=5, b=\"하이\")"
   ]
  },
  {
   "cell_type": "code",
   "execution_count": 45,
   "metadata": {},
   "outputs": [
    {
     "data": {
      "text/plain": [
       "'http://endic.naver.com/search.nhn:80?sLn=kr&dicQuery=can&x=0&y=0&query=can&target=endic&ie=utf8&query_utf=&isOnlyViewEE=N&'"
      ]
     },
     "execution_count": 45,
     "metadata": {},
     "output_type": "execute_result"
    }
   ],
   "source": [
    "def kwargs_url(server, port, **query):\n",
    "    url = \"http://\" + server + \":\" + port + \"?\"\n",
    "    for key in query.keys():\n",
    "        url += key + \"=\" + query[key] + \"&\"\n",
    "    return url\n",
    "\n",
    "kwargs_url(\"endic.naver.com/search.nhn\", \"80\", sLn=\"kr\", dicQuery='can', x=\"0\", y=\"0\", query='can', target=\"endic\",ie=\"utf8\", query_utf=\"\", isOnlyViewEE=\"N\" )"
   ]
  },
  {
   "cell_type": "code",
   "execution_count": 52,
   "metadata": {},
   "outputs": [
    {
     "name": "stdout",
     "output_type": "stream",
     "text": [
      "hello world\n"
     ]
    }
   ],
   "source": [
    "a = \"hello\"\n",
    "def glob_test(a):\n",
    "    a += \" world\"\n",
    "    return a\n",
    "\n",
    "b = glob_test(a)\n",
    "print(b)"
   ]
  },
  {
   "cell_type": "code",
   "execution_count": 51,
   "metadata": {},
   "outputs": [
    {
     "name": "stdout",
     "output_type": "stream",
     "text": [
      "hello world\n"
     ]
    }
   ],
   "source": [
    "# 함수에 쓰이는 파라미터는 내부에서 통일성만 있으면 되니 실제 명령어 중에서 통일성을 구할 필요는 없다.\n",
    "a = \"hello\"\n",
    "def glob_test(x):\n",
    "    x+= \" world\"\n",
    "    return x\n",
    "\n",
    "b = glob_test(a)\n",
    "print(b)"
   ]
  },
  {
   "cell_type": "code",
   "execution_count": 54,
   "metadata": {},
   "outputs": [
    {
     "name": "stdout",
     "output_type": "stream",
     "text": [
      "helloworld\n"
     ]
    }
   ],
   "source": [
    "# 전역 변 수 : Globalize\n",
    "\n",
    "a = \"hello\"\n",
    "def glob_test(a):\n",
    "        a += \" world\"\n",
    "        return a\n",
    "    \n",
    "a = glob_test(a)\n",
    "print(a)"
   ]
  },
  {
   "cell_type": "code",
   "execution_count": 55,
   "metadata": {},
   "outputs": [
    {
     "ename": "SyntaxError",
     "evalue": "name 'a' is parameter and global (<ipython-input-55-3f3614cffd00>, line 3)",
     "output_type": "error",
     "traceback": [
      "\u001b[1;36m  File \u001b[1;32m\"<ipython-input-55-3f3614cffd00>\"\u001b[1;36m, line \u001b[1;32m3\u001b[0m\n\u001b[1;33m    global a\u001b[0m\n\u001b[1;37m    ^\u001b[0m\n\u001b[1;31mSyntaxError\u001b[0m\u001b[1;31m:\u001b[0m name 'a' is parameter and global\n"
     ]
    }
   ],
   "source": [
    "a = \"hello\"\n",
    "def glob_test(a):\n",
    "    global a\n",
    "    a += \" world\"\n",
    "    return a\n",
    "    \n",
    "glob_test(a)\n",
    "print(a)"
   ]
  },
  {
   "cell_type": "code",
   "execution_count": 77,
   "metadata": {},
   "outputs": [
    {
     "name": "stdout",
     "output_type": "stream",
     "text": [
      "yaer??3456\n"
     ]
    },
    {
     "data": {
      "text/plain": [
       "True"
      ]
     },
     "execution_count": 77,
     "metadata": {},
     "output_type": "execute_result"
    }
   ],
   "source": [
    "#\"윤년이냐 함수\"\n",
    "# 윤년이냐 아니냐를 살펴보는 함수\n",
    "# 4로 나뉘어 떨어지면 윤년\n",
    "# 100으로 나뉘어 떨어지면 평년\n",
    "\n",
    "#나의 풀이\n",
    "def IsLeapYear(year):\n",
    "    return year%400==0 or(year%4 == 0 and year%100 != 0)\n",
    "\n",
    "\n",
    "year = int(input(\"윤년을 알고 싶어요. year??\"))\n",
    "IsLeapYear(year)"
   ]
  },
  {
   "cell_type": "code",
   "execution_count": 76,
   "metadata": {},
   "outputs": [
    {
     "data": {
      "text/plain": [
       "False"
      ]
     },
     "execution_count": 76,
     "metadata": {},
     "output_type": "execute_result"
    }
   ],
   "source": [
    "# 선생님 풀이 값\n",
    "\n",
    "def IsLeapYear(year):\n",
    "    return year%4==0 and (year%400 == 0 or year%100 != 0)\n",
    "\n",
    "IsLeapYear(2067)"
   ]
  },
  {
   "cell_type": "code",
   "execution_count": 84,
   "metadata": {},
   "outputs": [
    {
     "name": "stdout",
     "output_type": "stream",
     "text": [
      "윤년을 알고 싶어요. year??456\n"
     ]
    },
    {
     "data": {
      "text/plain": [
       "'윤년'"
      ]
     },
     "execution_count": 84,
     "metadata": {},
     "output_type": "execute_result"
    }
   ],
   "source": [
    "# 최종 코딩\n",
    "\n",
    "def IsLeapYear(year):\n",
    "    if year % 400 == 0 or (year % 4 == 0 and year % 100 != 0):\n",
    "        return \"윤년\"\n",
    "    else:\n",
    "        return \"평년\"\n",
    "\n",
    "\n",
    "year = int(input(\"윤년을 알고 싶어요. year??\"))\n",
    "IsLeapYear(year)"
   ]
  },
  {
   "cell_type": "code",
   "execution_count": 85,
   "metadata": {},
   "outputs": [
    {
     "ename": "SyntaxError",
     "evalue": "invalid syntax (<ipython-input-85-6050db8da918>, line 4)",
     "output_type": "error",
     "traceback": [
      "\u001b[1;36m  File \u001b[1;32m\"<ipython-input-85-6050db8da918>\"\u001b[1;36m, line \u001b[1;32m4\u001b[0m\n\u001b[1;33m    else:\u001b[0m\n\u001b[1;37m       ^\u001b[0m\n\u001b[1;31mSyntaxError\u001b[0m\u001b[1;31m:\u001b[0m invalid syntax\n"
     ]
    }
   ],
   "source": [
    "def guesser(guess):\n",
    "    if guess == anser:\n",
    "        print(\"correct! the answer was \", str(answer))\n",
    "        break\n",
    "        else:\n",
    "            print(\"Thant's not what )\n"
   ]
  },
  {
   "cell_type": "code",
   "execution_count": 91,
   "metadata": {},
   "outputs": [
    {
     "name": "stdout",
     "output_type": "stream",
     "text": [
      "축복하고 싶은 횟수? 3\n",
      "축복합니다!!!(2 번 남았어요)\n",
      "축복합니다!!!(1 번 남았어요)\n",
      "축복합니다!!!(0 번 남았어요)\n",
      "축복 끝!\n"
     ]
    }
   ],
   "source": [
    "#Recursive\n",
    "\n",
    "\n",
    "def recurse_beast(a):\n",
    "    if a == 0:\n",
    "        print(\"축복 끝!\")\n",
    "    else:\n",
    "        print(\"축복합니다!!!(%d 번 남았어요)\" % (a-1))\n",
    "        recurse_beast(a-1)\n",
    "        \n",
    "times = int(input(\"축복하고 싶은 횟수? \"))\n",
    "            \n",
    "recurse_beast(times)"
   ]
  },
  {
   "cell_type": "code",
   "execution_count": null,
   "metadata": {
    "collapsed": true
   },
   "outputs": [],
   "source": []
  }
 ],
 "metadata": {
  "kernelspec": {
   "display_name": "Python 3",
   "language": "python",
   "name": "python3"
  },
  "language_info": {
   "codemirror_mode": {
    "name": "ipython",
    "version": 3
   },
   "file_extension": ".py",
   "mimetype": "text/x-python",
   "name": "python",
   "nbconvert_exporter": "python",
   "pygments_lexer": "ipython3",
   "version": "3.6.2"
  }
 },
 "nbformat": 4,
 "nbformat_minor": 2
}
