{
 "cells": [
  {
   "cell_type": "code",
   "execution_count": 1,
   "metadata": {
    "collapsed": true
   },
   "outputs": [],
   "source": [
    "#decorator\n",
    "\n",
    "#함수에 기존 함수의 기능을 추가하고 싶을 때\n",
    "# decorator는 기본적을 closure)\n"
   ]
  },
  {
   "cell_type": "code",
   "execution_count": 4,
   "metadata": {},
   "outputs": [
    {
     "data": {
      "text/plain": [
       "8"
      ]
     },
     "execution_count": 4,
     "metadata": {},
     "output_type": "execute_result"
    }
   ],
   "source": [
    "def outer(func):\n",
    "    def inner(*args, **kwargs):\n",
    "        print(\"Things\")  #기능이라고 치자..\n",
    "        return func(*args, **kwargs)\n",
    "    return inner\n",
    "\n",
    "def adder(a, b):\n",
    "    return a + b\n",
    "\n",
    "c = adder(5, 3)\n",
    "c"
   ]
  },
  {
   "cell_type": "code",
   "execution_count": 5,
   "metadata": {},
   "outputs": [
    {
     "name": "stdout",
     "output_type": "stream",
     "text": [
      "Things\n"
     ]
    },
    {
     "data": {
      "text/plain": [
       "8"
      ]
     },
     "execution_count": 5,
     "metadata": {},
     "output_type": "execute_result"
    }
   ],
   "source": [
    "adder = outer(adder)\n",
    "c = adder(5, 3)\n",
    "c"
   ]
  },
  {
   "cell_type": "code",
   "execution_count": 6,
   "metadata": {},
   "outputs": [
    {
     "name": "stdout",
     "output_type": "stream",
     "text": [
      "Things\n"
     ]
    },
    {
     "data": {
      "text/plain": [
       "8"
      ]
     },
     "execution_count": 6,
     "metadata": {},
     "output_type": "execute_result"
    }
   ],
   "source": [
    "def outer(func):\n",
    "    def inner(*args, **kwargs):\n",
    "        print(\"Things\")  #기능이라고 치자..\n",
    "        return func(*args, **kwargs)\n",
    "    return inner\n",
    "\n",
    "@outer\n",
    "def adder(a, b):\n",
    "    return a + b\n",
    "\n",
    "# adder = adder + outer\n",
    "c = adder(5, 3)\n",
    "c"
   ]
  },
  {
   "cell_type": "code",
   "execution_count": 10,
   "metadata": {},
   "outputs": [
    {
     "name": "stdout",
     "output_type": "stream",
     "text": [
      "call number : 1\n",
      "5\n",
      "call number : 2\n",
      "7\n",
      "call number : 3\n",
      "9\n",
      "call number : 4\n",
      "11\n",
      "call number : 5\n",
      "13\n",
      "call number : 6\n",
      "15\n",
      "call number : 7\n",
      "17\n",
      "call number : 8\n",
      "19\n",
      "call number : 9\n",
      "21\n",
      "call number : 10\n",
      "23\n"
     ]
    }
   ],
   "source": [
    "# 추가 하고 싶은 기능 : 함수의 호출 횟수\n",
    "def call_count(func):\n",
    "    cnt = 0\n",
    "    def inner(*args, **kwargs):\n",
    "        nonlocal cnt\n",
    "        cnt += 1\n",
    "        print(\"call number : {}\".format(cnt))\n",
    "        return func(*args, **kwargs)\n",
    "    return inner\n",
    "\n",
    "@call_count\n",
    "def adder(a, b):\n",
    "    return a + b\n",
    "\n",
    "for i in range(1, 11):\n",
    "    a = i + 1\n",
    "    b = i + 2\n",
    "    print(adder(a, b))"
   ]
  },
  {
   "cell_type": "code",
   "execution_count": 11,
   "metadata": {},
   "outputs": [
    {
     "ename": "SyntaxError",
     "evalue": "unexpected EOF while parsing (<ipython-input-11-c23f56ce3e5e>, line 7)",
     "output_type": "error",
     "traceback": [
      "\u001b[1;36m  File \u001b[1;32m\"<ipython-input-11-c23f56ce3e5e>\"\u001b[1;36m, line \u001b[1;32m7\u001b[0m\n\u001b[1;33m    def inner(*args, **kwargs):\u001b[0m\n\u001b[1;37m                               ^\u001b[0m\n\u001b[1;31mSyntaxError\u001b[0m\u001b[1;31m:\u001b[0m unexpected EOF while parsing\n"
     ]
    }
   ],
   "source": [
    "import time\n",
    "a = time.time()\n",
    "#things 하고 싶은 일\n",
    "elapse = time.time() - a\n",
    "\n",
    "def timer(func):\n",
    "    def inner(*args, **kwargs):"
   ]
  },
  {
   "cell_type": "code",
   "execution_count": 28,
   "metadata": {},
   "outputs": [
    {
     "name": "stdout",
     "output_type": "stream",
     "text": [
      "elapsed time  3.0000147819519043sec\n"
     ]
    },
    {
     "data": {
      "text/plain": [
       "9"
      ]
     },
     "execution_count": 28,
     "metadata": {},
     "output_type": "execute_result"
    }
   ],
   "source": [
    "import time\n",
    "\n",
    "def timer(func):\n",
    "    def inner(*args, **kwargs):\n",
    "        start= time.time()\n",
    "#things 하고 싶은 일\n",
    "        ret = func(*args, **kwargs)\n",
    "        elapsed = time.time() - start\n",
    "        print('elapsed time  {}sec'.format(elapsed, 1))\n",
    "        return ret\n",
    "    return inner\n",
    "\n",
    "@timer\n",
    "def adder(a, b):\n",
    "    time.sleep(3)\n",
    "    return a + b\n",
    "\n",
    "adder(4, 5)"
   ]
  },
  {
   "cell_type": "code",
   "execution_count": 24,
   "metadata": {},
   "outputs": [
    {
     "name": "stdout",
     "output_type": "stream",
     "text": [
      "2.0\n"
     ]
    }
   ],
   "source": [
    "import time\n",
    "start = time.time()\n",
    "time.sleep(2)\n",
    "elapsed = time.time() - start\n",
    "\n",
    "print(round(elapsed, 1))\n",
    "#round : 반올림 함수"
   ]
  },
  {
   "cell_type": "code",
   "execution_count": 25,
   "metadata": {},
   "outputs": [
    {
     "data": {
      "text/plain": [
       "1501576015.9255352"
      ]
     },
     "execution_count": 25,
     "metadata": {},
     "output_type": "execute_result"
    }
   ],
   "source": [
    "  #time.time()  1970년 1월 1일 0시 0분부터 몇 초가 지났는가? (C언어에서 쓰임)"
   ]
  },
  {
   "cell_type": "code",
   "execution_count": 33,
   "metadata": {},
   "outputs": [
    {
     "name": "stdout",
     "output_type": "stream",
     "text": [
      "5 4\n",
      "elapsed time : 3.0009961128234863 sec\n"
     ]
    },
    {
     "data": {
      "text/plain": [
       "20"
      ]
     },
     "execution_count": 33,
     "metadata": {},
     "output_type": "execute_result"
    }
   ],
   "source": [
    "import time\n",
    "def timer(func):\n",
    "    def inner(*args, **kwargs):\n",
    "        start = time.time()\n",
    "        ret = func(*args, **kwargs)\n",
    "        elapsed = time.time() - start\n",
    "        print('elapsed time : {} sec'.format(elapsed))\n",
    "        return ret\n",
    "    return inner\n",
    "\n",
    "\n",
    "# 쓸 데 마다 mul = timer(mul) 을 대신한 것이 아래의 것임.\n",
    "@timer\n",
    "def mul(a,b):\n",
    "    time.sleep(3)\n",
    "    print(a,b)\n",
    "    return a*b\n",
    "\n",
    "mul(5, 4)    "
   ]
  },
  {
   "cell_type": "code",
   "execution_count": 34,
   "metadata": {
    "collapsed": true
   },
   "outputs": [],
   "source": [
    "#데코레이터 : 내 생각 (클로저일것... 함수를 인자로 받을 것... 인자는 내부함수에서 돌릴\n",
    "# 것...  내부함수는에 내 함수가 있을 것... 데코레이터는 @함수이름으로 미리 함수위에 \n",
    "# 적을 것...)"
   ]
  },
  {
   "cell_type": "code",
   "execution_count": 37,
   "metadata": {},
   "outputs": [
    {
     "name": "stdout",
     "output_type": "stream",
     "text": [
      "inner_timer\n",
      "call number : 1\n",
      "greg\n",
      "elapsed time : 3.0005481243133545 sec\n"
     ]
    },
    {
     "data": {
      "text/plain": [
       "9"
      ]
     },
     "execution_count": 37,
     "metadata": {},
     "output_type": "execute_result"
    }
   ],
   "source": [
    "def call_count(func):\n",
    "    cnt = 0\n",
    "    def inner_count(*args, **kwargs):\n",
    "        print(func.__name__)\n",
    "        nonlocal cnt\n",
    "        cnt += 1\n",
    "        print(\"call number : {}\".format(cnt))\n",
    "        return func(*args, **kwargs)\n",
    "    return inner_count\n",
    "\n",
    "\n",
    "import time\n",
    "def timer(func):\n",
    "    def inner_timer(*args, **kwargs):\n",
    "        print(func.__name__)\n",
    "        start = time.time()\n",
    "        ret = func(*args, **kwargs)\n",
    "        elapsed = time.time() - start\n",
    "        print('elapsed time : {} sec'.format(elapsed))\n",
    "        return ret\n",
    "    return inner_timer\n",
    "\n",
    "@call_count\n",
    "@timer\n",
    "def greg(a,b):\n",
    "    time.sleep(3)\n",
    "    return a + b\n",
    "# 리턴한 값을 func값으로 순차적으로 들어가는 문제점이 있다.\n",
    "# 이의 문제가 없으려면 @wraps()로 함수안에서 지정해줘야 한다.\n",
    "# 예제는 아래에 있다. \n",
    "\n",
    "greg(5, 4)"
   ]
  },
  {
   "cell_type": "code",
   "execution_count": 41,
   "metadata": {},
   "outputs": [
    {
     "name": "stdout",
     "output_type": "stream",
     "text": [
      "greg\n",
      "call number : 1\n",
      "greg\n",
      "elapsed time : 3.0002129077911377 sec\n"
     ]
    },
    {
     "data": {
      "text/plain": [
       "9"
      ]
     },
     "execution_count": 41,
     "metadata": {},
     "output_type": "execute_result"
    }
   ],
   "source": [
    "from functools import wraps\n",
    "\n",
    "def call_count(func):\n",
    "    cnt = 0\n",
    "    @wraps(func)\n",
    "    def inner_count(*args, **kwargs):\n",
    "        print(func.__name__)\n",
    "        nonlocal cnt\n",
    "        cnt += 1\n",
    "        print(\"call number : {}\".format(cnt))\n",
    "        return func(*args, **kwargs)\n",
    "    return inner_count\n",
    "\n",
    "\n",
    "import time\n",
    "def timer(func):\n",
    "    @wraps(func)\n",
    "    def inner_timer(*args, **kwargs):\n",
    "        print(func.__name__)\n",
    "        start = time.time()\n",
    "        ret = func(*args, **kwargs)\n",
    "        elapsed = time.time() - start\n",
    "        print('elapsed time : {} sec'.format(elapsed))\n",
    "        return ret\n",
    "    return inner_timer\n",
    "\n",
    "@call_count\n",
    "@timer\n",
    "def greg(a,b):\n",
    "    time.sleep(3)\n",
    "    return a + b\n",
    "\n",
    "\n",
    "greg(5, 4)"
   ]
  },
  {
   "cell_type": "code",
   "execution_count": null,
   "metadata": {
    "collapsed": true
   },
   "outputs": [],
   "source": []
  }
 ],
 "metadata": {
  "kernelspec": {
   "display_name": "Python 3",
   "language": "python",
   "name": "python3"
  },
  "language_info": {
   "codemirror_mode": {
    "name": "ipython",
    "version": 3
   },
   "file_extension": ".py",
   "mimetype": "text/x-python",
   "name": "python",
   "nbconvert_exporter": "python",
   "pygments_lexer": "ipython3",
   "version": "3.6.2"
  }
 },
 "nbformat": 4,
 "nbformat_minor": 2
}
