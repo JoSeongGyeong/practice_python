{
 "cells": [
  {
   "cell_type": "code",
   "execution_count": 1,
   "metadata": {
    "collapsed": true
   },
   "outputs": [],
   "source": [
    "# 전역 변수 : djeltjems wjqrms rksmd\n",
    "x = 10\n",
    "# a, b : 매개변수, 인자\n",
    "# a, b, c, d : \n"
   ]
  },
  {
   "cell_type": "code",
   "execution_count": 6,
   "metadata": {},
   "outputs": [
    {
     "name": "stdout",
     "output_type": "stream",
     "text": [
      "1 10 20 30 40\n"
     ]
    }
   ],
   "source": [
    "x = 1  #global\n",
    "def outer():\n",
    "    a = 10  #outer의 local잊 inner의 free variable\n",
    "    b = 20 \n",
    "    def inner():\n",
    "        global x\n",
    "        nonlocal a\n",
    "        c = 30 #inner의 local\n",
    "        d = 40\n",
    "        print(x, a, b, c, d)\n",
    "    return inner()\n",
    "\n",
    "outer()"
   ]
  },
  {
   "cell_type": "code",
   "execution_count": 8,
   "metadata": {},
   "outputs": [],
   "source": [
    "f = outer()\n",
    "f.__code__\n",
    "code.co_freevars\n"
   ]
  },
  {
   "cell_type": "code",
   "execution_count": 9,
   "metadata": {},
   "outputs": [
    {
     "data": {
      "text/plain": [
       "<code object outer at 0x0000012D14FD91E0, file \"<ipython-input-6-b0b965e3458a>\", line 2>"
      ]
     },
     "execution_count": 9,
     "metadata": {},
     "output_type": "execute_result"
    }
   ],
   "source": [
    "code"
   ]
  },
  {
   "cell_type": "code",
   "execution_count": 11,
   "metadata": {},
   "outputs": [
    {
     "data": {
      "text/plain": [
       "(1, 2, 3, 4, 5)"
      ]
     },
     "execution_count": 11,
     "metadata": {},
     "output_type": "execute_result"
    }
   ],
   "source": [
    "#packing\n",
    "a = 1,2,3,4,5  #tuple로 넣어짐\n",
    "a"
   ]
  },
  {
   "cell_type": "code",
   "execution_count": 12,
   "metadata": {
    "collapsed": true
   },
   "outputs": [],
   "source": [
    "# unpacking\n",
    "b, *c = a   \n"
   ]
  },
  {
   "cell_type": "code",
   "execution_count": 13,
   "metadata": {},
   "outputs": [
    {
     "data": {
      "text/plain": [
       "1"
      ]
     },
     "execution_count": 13,
     "metadata": {},
     "output_type": "execute_result"
    }
   ],
   "source": [
    "b"
   ]
  },
  {
   "cell_type": "code",
   "execution_count": 14,
   "metadata": {},
   "outputs": [
    {
     "data": {
      "text/plain": [
       "[2, 3, 4, 5]"
      ]
     },
     "execution_count": 14,
     "metadata": {},
     "output_type": "execute_result"
    }
   ],
   "source": [
    "c"
   ]
  },
  {
   "cell_type": "code",
   "execution_count": 15,
   "metadata": {
    "collapsed": true
   },
   "outputs": [],
   "source": [
    "b, c, *d = a"
   ]
  },
  {
   "cell_type": "code",
   "execution_count": 16,
   "metadata": {},
   "outputs": [
    {
     "data": {
      "text/plain": [
       "1"
      ]
     },
     "execution_count": 16,
     "metadata": {},
     "output_type": "execute_result"
    }
   ],
   "source": [
    "b"
   ]
  },
  {
   "cell_type": "code",
   "execution_count": 17,
   "metadata": {},
   "outputs": [
    {
     "data": {
      "text/plain": [
       "2"
      ]
     },
     "execution_count": 17,
     "metadata": {},
     "output_type": "execute_result"
    }
   ],
   "source": [
    "c"
   ]
  },
  {
   "cell_type": "code",
   "execution_count": 18,
   "metadata": {},
   "outputs": [
    {
     "data": {
      "text/plain": [
       "[3, 4, 5]"
      ]
     },
     "execution_count": 18,
     "metadata": {},
     "output_type": "execute_result"
    }
   ],
   "source": [
    "d"
   ]
  },
  {
   "cell_type": "code",
   "execution_count": 23,
   "metadata": {
    "collapsed": true
   },
   "outputs": [],
   "source": [
    "li = [1,2,3,4,5,]"
   ]
  },
  {
   "cell_type": "code",
   "execution_count": 24,
   "metadata": {
    "collapsed": true
   },
   "outputs": [],
   "source": [
    "def func(*args):\n",
    "    print(args)"
   ]
  },
  {
   "cell_type": "code",
   "execution_count": 25,
   "metadata": {},
   "outputs": [
    {
     "name": "stdout",
     "output_type": "stream",
     "text": [
      "([1, 2, 3, 4, 5],)\n"
     ]
    }
   ],
   "source": [
    "#그냥 변수\n",
    "func(li)"
   ]
  },
  {
   "cell_type": "code",
   "execution_count": 26,
   "metadata": {},
   "outputs": [
    {
     "name": "stdout",
     "output_type": "stream",
     "text": [
      "(1, 2, 3, 4, 5)\n"
     ]
    }
   ],
   "source": [
    "#unpacking\n",
    "func(*li)"
   ]
  },
  {
   "cell_type": "code",
   "execution_count": 27,
   "metadata": {
    "collapsed": true
   },
   "outputs": [],
   "source": [
    "dic = {'a':1, 'b':2, 'c':3}"
   ]
  },
  {
   "cell_type": "code",
   "execution_count": 28,
   "metadata": {
    "collapsed": true
   },
   "outputs": [],
   "source": [
    "a, *b = dic"
   ]
  },
  {
   "cell_type": "code",
   "execution_count": 29,
   "metadata": {},
   "outputs": [
    {
     "data": {
      "text/plain": [
       "'a'"
      ]
     },
     "execution_count": 29,
     "metadata": {},
     "output_type": "execute_result"
    }
   ],
   "source": [
    "a   #키만 들어감"
   ]
  },
  {
   "cell_type": "code",
   "execution_count": 30,
   "metadata": {},
   "outputs": [
    {
     "data": {
      "text/plain": [
       "['b', 'c']"
      ]
     },
     "execution_count": 30,
     "metadata": {},
     "output_type": "execute_result"
    }
   ],
   "source": [
    "b"
   ]
  },
  {
   "cell_type": "code",
   "execution_count": 31,
   "metadata": {
    "collapsed": true
   },
   "outputs": [],
   "source": [
    "a, *b = dic.items()  #unpacking"
   ]
  },
  {
   "cell_type": "code",
   "execution_count": 32,
   "metadata": {},
   "outputs": [
    {
     "data": {
      "text/plain": [
       "('a', 1)"
      ]
     },
     "execution_count": 32,
     "metadata": {},
     "output_type": "execute_result"
    }
   ],
   "source": [
    "a"
   ]
  },
  {
   "cell_type": "code",
   "execution_count": 33,
   "metadata": {},
   "outputs": [
    {
     "data": {
      "text/plain": [
       "[('b', 2), ('c', 3)]"
      ]
     },
     "execution_count": 33,
     "metadata": {},
     "output_type": "execute_result"
    }
   ],
   "source": [
    "b"
   ]
  },
  {
   "cell_type": "code",
   "execution_count": 35,
   "metadata": {},
   "outputs": [],
   "source": [
    "def func(a, *args, **kwargs):\n",
    "    pass"
   ]
  },
  {
   "cell_type": "code",
   "execution_count": 37,
   "metadata": {},
   "outputs": [],
   "source": [
    "func(5)"
   ]
  },
  {
   "cell_type": "code",
   "execution_count": 56,
   "metadata": {
    "collapsed": true
   },
   "outputs": [],
   "source": [
    "#파이썬은 모든 것이 객체\n",
    "def func(a,b):\n",
    "    return a + b"
   ]
  },
  {
   "cell_type": "code",
   "execution_count": 43,
   "metadata": {},
   "outputs": [],
   "source": [
    "#return\n",
    "def calc(kind = 'add'):\n",
    "    def add(a, b):\n",
    "        return a + b\n",
    "    def sub(a, b):\n",
    "        return a - b\n",
    "    \n",
    "    if kind == 'add':\n",
    "        return add\n",
    "    else:\n",
    "        return sub\n",
    "    \n",
    "    "
   ]
  },
  {
   "cell_type": "code",
   "execution_count": 44,
   "metadata": {},
   "outputs": [
    {
     "data": {
      "text/plain": [
       "9"
      ]
     },
     "execution_count": 44,
     "metadata": {},
     "output_type": "execute_result"
    }
   ],
   "source": [
    "f = calc('add')\n",
    "f(5, 4)"
   ]
  },
  {
   "cell_type": "code",
   "execution_count": 45,
   "metadata": {
    "collapsed": true
   },
   "outputs": [],
   "source": [
    "f = calc('sub')"
   ]
  },
  {
   "cell_type": "code",
   "execution_count": 46,
   "metadata": {},
   "outputs": [
    {
     "data": {
      "text/plain": [
       "1"
      ]
     },
     "execution_count": 46,
     "metadata": {},
     "output_type": "execute_result"
    }
   ],
   "source": [
    "f(5,4)"
   ]
  },
  {
   "cell_type": "code",
   "execution_count": 54,
   "metadata": {
    "collapsed": true
   },
   "outputs": [],
   "source": [
    "del func"
   ]
  },
  {
   "cell_type": "code",
   "execution_count": 57,
   "metadata": {},
   "outputs": [
    {
     "data": {
      "text/plain": [
       "9"
      ]
     },
     "execution_count": 57,
     "metadata": {},
     "output_type": "execute_result"
    }
   ],
   "source": [
    "func(4, 5)"
   ]
  },
  {
   "cell_type": "code",
   "execution_count": 58,
   "metadata": {},
   "outputs": [
    {
     "data": {
      "text/plain": [
       "7"
      ]
     },
     "execution_count": 58,
     "metadata": {},
     "output_type": "execute_result"
    }
   ],
   "source": [
    "func(1, 2)\n",
    "func(3, 4)"
   ]
  },
  {
   "cell_type": "code",
   "execution_count": 59,
   "metadata": {
    "collapsed": true
   },
   "outputs": [],
   "source": [
    "# 함수 객체 : function object\n",
    "# 코드 객체 : code object"
   ]
  },
  {
   "cell_type": "code",
   "execution_count": 60,
   "metadata": {
    "collapsed": true
   },
   "outputs": [],
   "source": [
    "def func(a, b):\n",
    "    return a + b"
   ]
  },
  {
   "cell_type": "code",
   "execution_count": 61,
   "metadata": {},
   "outputs": [
    {
     "data": {
      "text/plain": [
       "<function __main__.func>"
      ]
     },
     "execution_count": 61,
     "metadata": {},
     "output_type": "execute_result"
    }
   ],
   "source": [
    "func"
   ]
  },
  {
   "cell_type": "code",
   "execution_count": 62,
   "metadata": {},
   "outputs": [
    {
     "data": {
      "text/plain": [
       "['__annotations__',\n",
       " '__call__',\n",
       " '__class__',\n",
       " '__closure__',\n",
       " '__code__',\n",
       " '__defaults__',\n",
       " '__delattr__',\n",
       " '__dict__',\n",
       " '__dir__',\n",
       " '__doc__',\n",
       " '__eq__',\n",
       " '__format__',\n",
       " '__ge__',\n",
       " '__get__',\n",
       " '__getattribute__',\n",
       " '__globals__',\n",
       " '__gt__',\n",
       " '__hash__',\n",
       " '__init__',\n",
       " '__init_subclass__',\n",
       " '__kwdefaults__',\n",
       " '__le__',\n",
       " '__lt__',\n",
       " '__module__',\n",
       " '__name__',\n",
       " '__ne__',\n",
       " '__new__',\n",
       " '__qualname__',\n",
       " '__reduce__',\n",
       " '__reduce_ex__',\n",
       " '__repr__',\n",
       " '__setattr__',\n",
       " '__sizeof__',\n",
       " '__str__',\n",
       " '__subclasshook__']"
      ]
     },
     "execution_count": 62,
     "metadata": {},
     "output_type": "execute_result"
    }
   ],
   "source": [
    "dir(func)"
   ]
  },
  {
   "cell_type": "code",
   "execution_count": 63,
   "metadata": {},
   "outputs": [
    {
     "data": {
      "text/plain": [
       "{'In': ['',\n",
       "  '# 전역 변수 : djeltjems wjqrms rksmd\\nx = 10\\n# a, b : 매개변수, 인자\\n# a, b, c, d : ',\n",
       "  'x = 1\\ndef outer(a, b):\\n    a = 10;\\n    b = 20 \\n    def inner(c, d):\\n        c = 30\\n        d = 40\\n        print(x, a, b, c, d)\\n    inner()\\n\\nouter()',\n",
       "  'x = 1\\ndef outer(a, b):\\n    a = 10\\n    b = 20 \\n    def inner(c, d):\\n        c = 30\\n        d = 40\\n        print(x, a, b, c, d)\\n    inner()\\n\\nouter()',\n",
       "  'x = 1\\ndef outer(a, b):\\n    a = 10\\n    b = 20 \\n    def inner(c, d):\\n        c = 30\\n        d = 40\\n        print(x, a, b, c, d)\\n    inner()\\n\\nouter()',\n",
       "  'x = 1\\ndef outer():\\n    a = 10\\n    b = 20 \\n    def inner():\\n        c = 30\\n        d = 40\\n        print(x, a, b, c, d)\\n    inner()\\n\\nouter()',\n",
       "  'x = 1\\ndef outer():\\n    a = 10  #outer의 local잊 inner의 free variable\\n    b = 20 \\n    def inner():\\n        global x\\n        nonlocal a\\n        c = 30 #inner의 local\\n        d = 40\\n        print(x, a, b, c, d)\\n    inner()\\n\\nouter()',\n",
       "  'code = outer._code_',\n",
       "  'code = outer.__code__',\n",
       "  'code',\n",
       "  '#packing\\na = 1,2,3,4,5  #tuple로 넣어짐\\nㅁ',\n",
       "  '#packing\\na = 1,2,3,4,5  #tuple로 넣어짐\\na',\n",
       "  '# unpacking\\nb, *c = a',\n",
       "  'b',\n",
       "  'c',\n",
       "  'b, c, *d = a',\n",
       "  'b',\n",
       "  'c',\n",
       "  'd',\n",
       "  'li = [1,2,3,45,]',\n",
       "  'def func(*args):\\n    print(args)',\n",
       "  '#그냥 변수\\nfunc(li)',\n",
       "  'func(*li)',\n",
       "  'li = [1,2,3,4,5,]',\n",
       "  'def func(*args):\\n    print(args)',\n",
       "  '#그냥 변수\\nfunc(li)',\n",
       "  'func(*li)',\n",
       "  \"dic = {'a':1, 'b':2, 'c':3}\",\n",
       "  'a, *b = dic',\n",
       "  'a',\n",
       "  'b',\n",
       "  'a, *b = dic.items()',\n",
       "  'a',\n",
       "  'b',\n",
       "  'def func(, *args, **kwargs):\\n    pass',\n",
       "  'def func(a, *args, **kwargs):\\n    pass',\n",
       "  'func()',\n",
       "  'func(5)',\n",
       "  '#파이썬은 모든 것이 객체\\ndef func(a,b):\\n    pass',\n",
       "  'del func(1, 2)',\n",
       "  'del func()',\n",
       "  'del func()',\n",
       "  \"#return\\ndef calculator(kind = 'add'):\\n    def add(a, b):\\n        return a + b\\n    def sub(a, b):\\n        return a - b\\n    \\n    if kind == 'add':\\n        return add\\n    else:\\n        return sub\\n    \\n    \",\n",
       "  \"#return\\ndef calc(kind = 'add'):\\n    def add(a, b):\\n        return a + b\\n    def sub(a, b):\\n        return a - b\\n    \\n    if kind == 'add':\\n        return add\\n    else:\\n        return sub\\n    \\n    \",\n",
       "  \"f = calc('add')\\nf(5, 4)\",\n",
       "  \"f = calc('sub')\",\n",
       "  'f(5,4)',\n",
       "  '#파이썬은 모든 것이 객체\\ndef func(a,b):\\n    pass',\n",
       "  'del func',\n",
       "  'func()',\n",
       "  '#파이썬은 모든 것이 객체\\ndef func(a,b):\\n    pass',\n",
       "  'func()',\n",
       "  '#파이썬은 모든 것이 객체\\ndef func(a,b):\\n    pass',\n",
       "  'func(4, 5)',\n",
       "  'del func',\n",
       "  'func(4, 5)',\n",
       "  '#파이썬은 모든 것이 객체\\ndef func(a,b):\\n    return a + b',\n",
       "  'func(4, 5)',\n",
       "  'func(1, 2)\\nfunc(3, 4)',\n",
       "  '# 함수 객체 : function object\\n# 코드 객체 : code object',\n",
       "  'def func(a, b):\\n    return a + b',\n",
       "  'func',\n",
       "  'dir(func)',\n",
       "  'func.__globals__'],\n",
       " 'Out': {9: <code object outer at 0x0000012D14FD91E0, file \"<ipython-input-6-b0b965e3458a>\", line 2>,\n",
       "  11: (1, 2, 3, 4, 5),\n",
       "  13: 1,\n",
       "  14: [2, 3, 4, 5],\n",
       "  16: 1,\n",
       "  17: 2,\n",
       "  18: [3, 4, 5],\n",
       "  29: 'a',\n",
       "  30: ['b', 'c'],\n",
       "  32: ('a', 1),\n",
       "  33: [('b', 2), ('c', 3)],\n",
       "  44: 9,\n",
       "  46: 1,\n",
       "  57: 9,\n",
       "  58: 7,\n",
       "  61: <function __main__.func>,\n",
       "  62: ['__annotations__',\n",
       "   '__call__',\n",
       "   '__class__',\n",
       "   '__closure__',\n",
       "   '__code__',\n",
       "   '__defaults__',\n",
       "   '__delattr__',\n",
       "   '__dict__',\n",
       "   '__dir__',\n",
       "   '__doc__',\n",
       "   '__eq__',\n",
       "   '__format__',\n",
       "   '__ge__',\n",
       "   '__get__',\n",
       "   '__getattribute__',\n",
       "   '__globals__',\n",
       "   '__gt__',\n",
       "   '__hash__',\n",
       "   '__init__',\n",
       "   '__init_subclass__',\n",
       "   '__kwdefaults__',\n",
       "   '__le__',\n",
       "   '__lt__',\n",
       "   '__module__',\n",
       "   '__name__',\n",
       "   '__ne__',\n",
       "   '__new__',\n",
       "   '__qualname__',\n",
       "   '__reduce__',\n",
       "   '__reduce_ex__',\n",
       "   '__repr__',\n",
       "   '__setattr__',\n",
       "   '__sizeof__',\n",
       "   '__str__',\n",
       "   '__subclasshook__']},\n",
       " '_': ['__annotations__',\n",
       "  '__call__',\n",
       "  '__class__',\n",
       "  '__closure__',\n",
       "  '__code__',\n",
       "  '__defaults__',\n",
       "  '__delattr__',\n",
       "  '__dict__',\n",
       "  '__dir__',\n",
       "  '__doc__',\n",
       "  '__eq__',\n",
       "  '__format__',\n",
       "  '__ge__',\n",
       "  '__get__',\n",
       "  '__getattribute__',\n",
       "  '__globals__',\n",
       "  '__gt__',\n",
       "  '__hash__',\n",
       "  '__init__',\n",
       "  '__init_subclass__',\n",
       "  '__kwdefaults__',\n",
       "  '__le__',\n",
       "  '__lt__',\n",
       "  '__module__',\n",
       "  '__name__',\n",
       "  '__ne__',\n",
       "  '__new__',\n",
       "  '__qualname__',\n",
       "  '__reduce__',\n",
       "  '__reduce_ex__',\n",
       "  '__repr__',\n",
       "  '__setattr__',\n",
       "  '__sizeof__',\n",
       "  '__str__',\n",
       "  '__subclasshook__'],\n",
       " '_11': (1, 2, 3, 4, 5),\n",
       " '_13': 1,\n",
       " '_14': [2, 3, 4, 5],\n",
       " '_16': 1,\n",
       " '_17': 2,\n",
       " '_18': [3, 4, 5],\n",
       " '_29': 'a',\n",
       " '_30': ['b', 'c'],\n",
       " '_32': ('a', 1),\n",
       " '_33': [('b', 2), ('c', 3)],\n",
       " '_44': 9,\n",
       " '_46': 1,\n",
       " '_57': 9,\n",
       " '_58': 7,\n",
       " '_61': <function __main__.func>,\n",
       " '_62': ['__annotations__',\n",
       "  '__call__',\n",
       "  '__class__',\n",
       "  '__closure__',\n",
       "  '__code__',\n",
       "  '__defaults__',\n",
       "  '__delattr__',\n",
       "  '__dict__',\n",
       "  '__dir__',\n",
       "  '__doc__',\n",
       "  '__eq__',\n",
       "  '__format__',\n",
       "  '__ge__',\n",
       "  '__get__',\n",
       "  '__getattribute__',\n",
       "  '__globals__',\n",
       "  '__gt__',\n",
       "  '__hash__',\n",
       "  '__init__',\n",
       "  '__init_subclass__',\n",
       "  '__kwdefaults__',\n",
       "  '__le__',\n",
       "  '__lt__',\n",
       "  '__module__',\n",
       "  '__name__',\n",
       "  '__ne__',\n",
       "  '__new__',\n",
       "  '__qualname__',\n",
       "  '__reduce__',\n",
       "  '__reduce_ex__',\n",
       "  '__repr__',\n",
       "  '__setattr__',\n",
       "  '__sizeof__',\n",
       "  '__str__',\n",
       "  '__subclasshook__'],\n",
       " '_9': <code object outer at 0x0000012D14FD91E0, file \"<ipython-input-6-b0b965e3458a>\", line 2>,\n",
       " '__': <function __main__.func>,\n",
       " '___': 7,\n",
       " '__builtin__': <module 'builtins' (built-in)>,\n",
       " '__builtins__': <module 'builtins' (built-in)>,\n",
       " '__doc__': 'Automatically created module for IPython interactive environment',\n",
       " '__loader__': None,\n",
       " '__name__': '__main__',\n",
       " '__package__': None,\n",
       " '__spec__': None,\n",
       " '_dh': ['C:\\\\Users\\\\josyayo\\\\documents\\\\css\\\\practice-python'],\n",
       " '_i': 'dir(func)',\n",
       " '_i1': '# 전역 변수 : djeltjems wjqrms rksmd\\nx = 10\\n# a, b : 매개변수, 인자\\n# a, b, c, d : ',\n",
       " '_i10': '#packing\\na = 1,2,3,4,5  #tuple로 넣어짐\\nㅁ',\n",
       " '_i11': '#packing\\na = 1,2,3,4,5  #tuple로 넣어짐\\na',\n",
       " '_i12': '# unpacking\\nb, *c = a',\n",
       " '_i13': 'b',\n",
       " '_i14': 'c',\n",
       " '_i15': 'b, c, *d = a',\n",
       " '_i16': 'b',\n",
       " '_i17': 'c',\n",
       " '_i18': 'd',\n",
       " '_i19': 'li = [1,2,3,45,]',\n",
       " '_i2': 'x = 1\\ndef outer(a, b):\\n    a = 10;\\n    b = 20 \\n    def inner(c, d):\\n        c = 30\\n        d = 40\\n        print(x, a, b, c, d)\\n    inner()\\n\\nouter()',\n",
       " '_i20': 'def func(*args):\\n    print(args)',\n",
       " '_i21': '#그냥 변수\\nfunc(li)',\n",
       " '_i22': 'func(*li)',\n",
       " '_i23': 'li = [1,2,3,4,5,]',\n",
       " '_i24': 'def func(*args):\\n    print(args)',\n",
       " '_i25': '#그냥 변수\\nfunc(li)',\n",
       " '_i26': 'func(*li)',\n",
       " '_i27': \"dic = {'a':1, 'b':2, 'c':3}\",\n",
       " '_i28': 'a, *b = dic',\n",
       " '_i29': 'a',\n",
       " '_i3': 'x = 1\\ndef outer(a, b):\\n    a = 10\\n    b = 20 \\n    def inner(c, d):\\n        c = 30\\n        d = 40\\n        print(x, a, b, c, d)\\n    inner()\\n\\nouter()',\n",
       " '_i30': 'b',\n",
       " '_i31': 'a, *b = dic.items()',\n",
       " '_i32': 'a',\n",
       " '_i33': 'b',\n",
       " '_i34': 'def func(, *args, **kwargs):\\n    pass',\n",
       " '_i35': 'def func(a, *args, **kwargs):\\n    pass',\n",
       " '_i36': 'func()',\n",
       " '_i37': 'func(5)',\n",
       " '_i38': '#파이썬은 모든 것이 객체\\ndef func(a,b):\\n    pass',\n",
       " '_i39': 'del func(1, 2)',\n",
       " '_i4': 'x = 1\\ndef outer(a, b):\\n    a = 10\\n    b = 20 \\n    def inner(c, d):\\n        c = 30\\n        d = 40\\n        print(x, a, b, c, d)\\n    inner()\\n\\nouter()',\n",
       " '_i40': 'del func()',\n",
       " '_i41': 'del func()',\n",
       " '_i42': \"#return\\ndef calculator(kind = 'add'):\\n    def add(a, b):\\n        return a + b\\n    def sub(a, b):\\n        return a - b\\n    \\n    if kind == 'add':\\n        return add\\n    else:\\n        return sub\\n    \\n    \",\n",
       " '_i43': \"#return\\ndef calc(kind = 'add'):\\n    def add(a, b):\\n        return a + b\\n    def sub(a, b):\\n        return a - b\\n    \\n    if kind == 'add':\\n        return add\\n    else:\\n        return sub\\n    \\n    \",\n",
       " '_i44': \"f = calc('add')\\nf(5, 4)\",\n",
       " '_i45': \"f = calc('sub')\",\n",
       " '_i46': 'f(5,4)',\n",
       " '_i47': '#파이썬은 모든 것이 객체\\ndef func(a,b):\\n    pass',\n",
       " '_i48': 'del func',\n",
       " '_i49': 'func()',\n",
       " '_i5': 'x = 1\\ndef outer():\\n    a = 10\\n    b = 20 \\n    def inner():\\n        c = 30\\n        d = 40\\n        print(x, a, b, c, d)\\n    inner()\\n\\nouter()',\n",
       " '_i50': '#파이썬은 모든 것이 객체\\ndef func(a,b):\\n    pass',\n",
       " '_i51': 'func()',\n",
       " '_i52': '#파이썬은 모든 것이 객체\\ndef func(a,b):\\n    pass',\n",
       " '_i53': 'func(4, 5)',\n",
       " '_i54': 'del func',\n",
       " '_i55': 'func(4, 5)',\n",
       " '_i56': '#파이썬은 모든 것이 객체\\ndef func(a,b):\\n    return a + b',\n",
       " '_i57': 'func(4, 5)',\n",
       " '_i58': 'func(1, 2)\\nfunc(3, 4)',\n",
       " '_i59': '# 함수 객체 : function object\\n# 코드 객체 : code object',\n",
       " '_i6': 'x = 1\\ndef outer():\\n    a = 10  #outer의 local잊 inner의 free variable\\n    b = 20 \\n    def inner():\\n        global x\\n        nonlocal a\\n        c = 30 #inner의 local\\n        d = 40\\n        print(x, a, b, c, d)\\n    inner()\\n\\nouter()',\n",
       " '_i60': 'def func(a, b):\\n    return a + b',\n",
       " '_i61': 'func',\n",
       " '_i62': 'dir(func)',\n",
       " '_i63': 'func.__globals__',\n",
       " '_i7': 'code = outer._code_',\n",
       " '_i8': 'code = outer.__code__',\n",
       " '_i9': 'code',\n",
       " '_ih': ['',\n",
       "  '# 전역 변수 : djeltjems wjqrms rksmd\\nx = 10\\n# a, b : 매개변수, 인자\\n# a, b, c, d : ',\n",
       "  'x = 1\\ndef outer(a, b):\\n    a = 10;\\n    b = 20 \\n    def inner(c, d):\\n        c = 30\\n        d = 40\\n        print(x, a, b, c, d)\\n    inner()\\n\\nouter()',\n",
       "  'x = 1\\ndef outer(a, b):\\n    a = 10\\n    b = 20 \\n    def inner(c, d):\\n        c = 30\\n        d = 40\\n        print(x, a, b, c, d)\\n    inner()\\n\\nouter()',\n",
       "  'x = 1\\ndef outer(a, b):\\n    a = 10\\n    b = 20 \\n    def inner(c, d):\\n        c = 30\\n        d = 40\\n        print(x, a, b, c, d)\\n    inner()\\n\\nouter()',\n",
       "  'x = 1\\ndef outer():\\n    a = 10\\n    b = 20 \\n    def inner():\\n        c = 30\\n        d = 40\\n        print(x, a, b, c, d)\\n    inner()\\n\\nouter()',\n",
       "  'x = 1\\ndef outer():\\n    a = 10  #outer의 local잊 inner의 free variable\\n    b = 20 \\n    def inner():\\n        global x\\n        nonlocal a\\n        c = 30 #inner의 local\\n        d = 40\\n        print(x, a, b, c, d)\\n    inner()\\n\\nouter()',\n",
       "  'code = outer._code_',\n",
       "  'code = outer.__code__',\n",
       "  'code',\n",
       "  '#packing\\na = 1,2,3,4,5  #tuple로 넣어짐\\nㅁ',\n",
       "  '#packing\\na = 1,2,3,4,5  #tuple로 넣어짐\\na',\n",
       "  '# unpacking\\nb, *c = a',\n",
       "  'b',\n",
       "  'c',\n",
       "  'b, c, *d = a',\n",
       "  'b',\n",
       "  'c',\n",
       "  'd',\n",
       "  'li = [1,2,3,45,]',\n",
       "  'def func(*args):\\n    print(args)',\n",
       "  '#그냥 변수\\nfunc(li)',\n",
       "  'func(*li)',\n",
       "  'li = [1,2,3,4,5,]',\n",
       "  'def func(*args):\\n    print(args)',\n",
       "  '#그냥 변수\\nfunc(li)',\n",
       "  'func(*li)',\n",
       "  \"dic = {'a':1, 'b':2, 'c':3}\",\n",
       "  'a, *b = dic',\n",
       "  'a',\n",
       "  'b',\n",
       "  'a, *b = dic.items()',\n",
       "  'a',\n",
       "  'b',\n",
       "  'def func(, *args, **kwargs):\\n    pass',\n",
       "  'def func(a, *args, **kwargs):\\n    pass',\n",
       "  'func()',\n",
       "  'func(5)',\n",
       "  '#파이썬은 모든 것이 객체\\ndef func(a,b):\\n    pass',\n",
       "  'del func(1, 2)',\n",
       "  'del func()',\n",
       "  'del func()',\n",
       "  \"#return\\ndef calculator(kind = 'add'):\\n    def add(a, b):\\n        return a + b\\n    def sub(a, b):\\n        return a - b\\n    \\n    if kind == 'add':\\n        return add\\n    else:\\n        return sub\\n    \\n    \",\n",
       "  \"#return\\ndef calc(kind = 'add'):\\n    def add(a, b):\\n        return a + b\\n    def sub(a, b):\\n        return a - b\\n    \\n    if kind == 'add':\\n        return add\\n    else:\\n        return sub\\n    \\n    \",\n",
       "  \"f = calc('add')\\nf(5, 4)\",\n",
       "  \"f = calc('sub')\",\n",
       "  'f(5,4)',\n",
       "  '#파이썬은 모든 것이 객체\\ndef func(a,b):\\n    pass',\n",
       "  'del func',\n",
       "  'func()',\n",
       "  '#파이썬은 모든 것이 객체\\ndef func(a,b):\\n    pass',\n",
       "  'func()',\n",
       "  '#파이썬은 모든 것이 객체\\ndef func(a,b):\\n    pass',\n",
       "  'func(4, 5)',\n",
       "  'del func',\n",
       "  'func(4, 5)',\n",
       "  '#파이썬은 모든 것이 객체\\ndef func(a,b):\\n    return a + b',\n",
       "  'func(4, 5)',\n",
       "  'func(1, 2)\\nfunc(3, 4)',\n",
       "  '# 함수 객체 : function object\\n# 코드 객체 : code object',\n",
       "  'def func(a, b):\\n    return a + b',\n",
       "  'func',\n",
       "  'dir(func)',\n",
       "  'func.__globals__'],\n",
       " '_ii': 'func',\n",
       " '_iii': 'def func(a, b):\\n    return a + b',\n",
       " '_oh': {9: <code object outer at 0x0000012D14FD91E0, file \"<ipython-input-6-b0b965e3458a>\", line 2>,\n",
       "  11: (1, 2, 3, 4, 5),\n",
       "  13: 1,\n",
       "  14: [2, 3, 4, 5],\n",
       "  16: 1,\n",
       "  17: 2,\n",
       "  18: [3, 4, 5],\n",
       "  29: 'a',\n",
       "  30: ['b', 'c'],\n",
       "  32: ('a', 1),\n",
       "  33: [('b', 2), ('c', 3)],\n",
       "  44: 9,\n",
       "  46: 1,\n",
       "  57: 9,\n",
       "  58: 7,\n",
       "  61: <function __main__.func>,\n",
       "  62: ['__annotations__',\n",
       "   '__call__',\n",
       "   '__class__',\n",
       "   '__closure__',\n",
       "   '__code__',\n",
       "   '__defaults__',\n",
       "   '__delattr__',\n",
       "   '__dict__',\n",
       "   '__dir__',\n",
       "   '__doc__',\n",
       "   '__eq__',\n",
       "   '__format__',\n",
       "   '__ge__',\n",
       "   '__get__',\n",
       "   '__getattribute__',\n",
       "   '__globals__',\n",
       "   '__gt__',\n",
       "   '__hash__',\n",
       "   '__init__',\n",
       "   '__init_subclass__',\n",
       "   '__kwdefaults__',\n",
       "   '__le__',\n",
       "   '__lt__',\n",
       "   '__module__',\n",
       "   '__name__',\n",
       "   '__ne__',\n",
       "   '__new__',\n",
       "   '__qualname__',\n",
       "   '__reduce__',\n",
       "   '__reduce_ex__',\n",
       "   '__repr__',\n",
       "   '__setattr__',\n",
       "   '__sizeof__',\n",
       "   '__str__',\n",
       "   '__subclasshook__']},\n",
       " 'a': ('a', 1),\n",
       " 'b': [('b', 2), ('c', 3)],\n",
       " 'c': 2,\n",
       " 'calc': <function __main__.calc>,\n",
       " 'calculator': <function __main__.calculator>,\n",
       " 'code': <code object outer at 0x0000012D14FD91E0, file \"<ipython-input-6-b0b965e3458a>\", line 2>,\n",
       " 'd': [3, 4, 5],\n",
       " 'dic': {'a': 1, 'b': 2, 'c': 3},\n",
       " 'exit': <IPython.core.autocall.ZMQExitAutocall at 0x12d14e86e10>,\n",
       " 'f': <function __main__.calc.<locals>.sub>,\n",
       " 'func': <function __main__.func>,\n",
       " 'get_ipython': <bound method InteractiveShell.get_ipython of <ipykernel.zmqshell.ZMQInteractiveShell object at 0x0000012D14E404E0>>,\n",
       " 'li': [1, 2, 3, 4, 5],\n",
       " 'outer': <function __main__.outer>,\n",
       " 'quit': <IPython.core.autocall.ZMQExitAutocall at 0x12d14e86e10>,\n",
       " 'x': 1}"
      ]
     },
     "execution_count": 63,
     "metadata": {},
     "output_type": "execute_result"
    }
   ],
   "source": [
    "func.__globals__"
   ]
  },
  {
   "cell_type": "code",
   "execution_count": 64,
   "metadata": {
    "collapsed": true
   },
   "outputs": [],
   "source": [
    "a= 10\n",
    "b = 20\n",
    "c = 30"
   ]
  },
  {
   "cell_type": "code",
   "execution_count": 67,
   "metadata": {},
   "outputs": [],
   "source": [
    "def f(a, b):\n",
    "    return a+b"
   ]
  },
  {
   "cell_type": "code",
   "execution_count": 68,
   "metadata": {},
   "outputs": [
    {
     "data": {
      "text/plain": [
       "10"
      ]
     },
     "execution_count": 68,
     "metadata": {},
     "output_type": "execute_result"
    }
   ],
   "source": [
    "f.__globals__['a']  #Dictionary임.."
   ]
  },
  {
   "cell_type": "code",
   "execution_count": 69,
   "metadata": {
    "collapsed": true
   },
   "outputs": [],
   "source": [
    "code = func.__code__"
   ]
  },
  {
   "cell_type": "code",
   "execution_count": 70,
   "metadata": {},
   "outputs": [
    {
     "data": {
      "text/plain": [
       "<code object func at 0x0000012D14FD9780, file \"<ipython-input-60-33723f3dd93d>\", line 1>"
      ]
     },
     "execution_count": 70,
     "metadata": {},
     "output_type": "execute_result"
    }
   ],
   "source": [
    "code"
   ]
  },
  {
   "cell_type": "code",
   "execution_count": 72,
   "metadata": {},
   "outputs": [
    {
     "data": {
      "text/plain": [
       "b'|\\x00|\\x01\\x17\\x00S\\x00'"
      ]
     },
     "execution_count": 72,
     "metadata": {},
     "output_type": "execute_result"
    }
   ],
   "source": [
    "#함수 지시문을 변수에 받아서 살펴봄..\n",
    "code.co_code"
   ]
  },
  {
   "cell_type": "code",
   "execution_count": 73,
   "metadata": {
    "collapsed": true
   },
   "outputs": [],
   "source": [
    "#1. globals\n",
    "#2. code object"
   ]
  },
  {
   "cell_type": "code",
   "execution_count": 74,
   "metadata": {},
   "outputs": [
    {
     "name": "stdout",
     "output_type": "stream",
     "text": [
      "  2           0 LOAD_FAST                0 (a)\n",
      "              2 LOAD_FAST                1 (b)\n",
      "              4 BINARY_ADD\n",
      "              6 RETURN_VALUE\n"
     ]
    }
   ],
   "source": [
    "import dis\n",
    "dis.dis(func)"
   ]
  },
  {
   "cell_type": "code",
   "execution_count": 75,
   "metadata": {
    "collapsed": true
   },
   "outputs": [],
   "source": [
    "#Clouser\n",
    "  #은행계좌를 만드는 함수  _ 이런 식으로 쓰는 경우는 없다.\n",
    "def account(m, name):\n",
    "    def add(money):\n",
    "        nonlocal m\n",
    "        m += money\n",
    "        return m, name\n",
    "    return add\n",
    "        "
   ]
  },
  {
   "cell_type": "code",
   "execution_count": 76,
   "metadata": {
    "collapsed": true
   },
   "outputs": [],
   "source": [
    "my_acnt = account(1000, 'areg')\n",
    "your_acnt = account(200, 'john')\n"
   ]
  },
  {
   "cell_type": "code",
   "execution_count": 77,
   "metadata": {},
   "outputs": [
    {
     "data": {
      "text/plain": [
       "<function __main__.account.<locals>.add>"
      ]
     },
     "execution_count": 77,
     "metadata": {},
     "output_type": "execute_result"
    }
   ],
   "source": [
    "my_acnt"
   ]
  },
  {
   "cell_type": "code",
   "execution_count": 78,
   "metadata": {},
   "outputs": [
    {
     "data": {
      "text/plain": [
       "<function __main__.account.<locals>.add>"
      ]
     },
     "execution_count": 78,
     "metadata": {},
     "output_type": "execute_result"
    }
   ],
   "source": [
    "your_acnt"
   ]
  },
  {
   "cell_type": "code",
   "execution_count": 79,
   "metadata": {},
   "outputs": [
    {
     "data": {
      "text/plain": [
       "False"
      ]
     },
     "execution_count": 79,
     "metadata": {},
     "output_type": "execute_result"
    }
   ],
   "source": [
    "my_acnt == your_acnt"
   ]
  },
  {
   "cell_type": "code",
   "execution_count": 80,
   "metadata": {},
   "outputs": [
    {
     "data": {
      "text/plain": [
       "True"
      ]
     },
     "execution_count": 80,
     "metadata": {},
     "output_type": "execute_result"
    }
   ],
   "source": [
    "my_acnt.__code__ ==  your_acnt.__code__"
   ]
  },
  {
   "cell_type": "code",
   "execution_count": 81,
   "metadata": {},
   "outputs": [
    {
     "data": {
      "text/plain": [
       "(2000, 'areg')"
      ]
     },
     "execution_count": 81,
     "metadata": {},
     "output_type": "execute_result"
    }
   ],
   "source": [
    "my_acnt(1000)"
   ]
  },
  {
   "cell_type": "code",
   "execution_count": 82,
   "metadata": {
    "collapsed": true
   },
   "outputs": [],
   "source": [
    "# 함수인데 내부정보를 가지고 있다. 그래서 클로저임."
   ]
  },
  {
   "cell_type": "code",
   "execution_count": 83,
   "metadata": {},
   "outputs": [
    {
     "data": {
      "text/plain": [
       "(-100, 'john')"
      ]
     },
     "execution_count": 83,
     "metadata": {},
     "output_type": "execute_result"
    }
   ],
   "source": [
    "your_acnt(-300)"
   ]
  },
  {
   "cell_type": "code",
   "execution_count": 84,
   "metadata": {},
   "outputs": [
    {
     "data": {
      "text/plain": [
       "2000"
      ]
     },
     "execution_count": 84,
     "metadata": {},
     "output_type": "execute_result"
    }
   ],
   "source": [
    "my_acnt.__closure__[0].cell_contents"
   ]
  },
  {
   "cell_type": "code",
   "execution_count": 85,
   "metadata": {},
   "outputs": [
    {
     "data": {
      "text/plain": [
       "'areg'"
      ]
     },
     "execution_count": 85,
     "metadata": {},
     "output_type": "execute_result"
    }
   ],
   "source": [
    "my_acnt.__closure__[1].cell_contents"
   ]
  },
  {
   "cell_type": "code",
   "execution_count": 87,
   "metadata": {},
   "outputs": [
    {
     "data": {
      "text/plain": [
       "'john'"
      ]
     },
     "execution_count": 87,
     "metadata": {},
     "output_type": "execute_result"
    }
   ],
   "source": [
    "your_acnt.__closure__[1].cell_contents"
   ]
  },
  {
   "cell_type": "code",
   "execution_count": 88,
   "metadata": {
    "collapsed": true
   },
   "outputs": [],
   "source": [
    "code = my_acnt.__code__"
   ]
  },
  {
   "cell_type": "code",
   "execution_count": 89,
   "metadata": {},
   "outputs": [
    {
     "data": {
      "text/plain": [
       "('m', 'name')"
      ]
     },
     "execution_count": 89,
     "metadata": {},
     "output_type": "execute_result"
    }
   ],
   "source": [
    "code.co_freevars"
   ]
  },
  {
   "cell_type": "code",
   "execution_count": 90,
   "metadata": {},
   "outputs": [
    {
     "data": {
      "text/plain": [
       "(2010, 'areg')"
      ]
     },
     "execution_count": 90,
     "metadata": {},
     "output_type": "execute_result"
    }
   ],
   "source": [
    "my_acnt(10)"
   ]
  },
  {
   "cell_type": "code",
   "execution_count": 91,
   "metadata": {
    "collapsed": true
   },
   "outputs": [],
   "source": [
    "#lambda\n",
    "def adder(a,b):\n",
    "    return a + b"
   ]
  },
  {
   "cell_type": "code",
   "execution_count": 92,
   "metadata": {},
   "outputs": [
    {
     "data": {
      "text/plain": [
       "<function __main__.<lambda>>"
      ]
     },
     "execution_count": 92,
     "metadata": {},
     "output_type": "execute_result"
    }
   ],
   "source": [
    "lambda a, b : a + b"
   ]
  },
  {
   "cell_type": "code",
   "execution_count": null,
   "metadata": {
    "collapsed": true
   },
   "outputs": [],
   "source": []
  }
 ],
 "metadata": {
  "kernelspec": {
   "display_name": "Python 3",
   "language": "python",
   "name": "python3"
  },
  "language_info": {
   "codemirror_mode": {
    "name": "ipython",
    "version": 3
   },
   "file_extension": ".py",
   "mimetype": "text/x-python",
   "name": "python",
   "nbconvert_exporter": "python",
   "pygments_lexer": "ipython3",
   "version": "3.6.2"
  }
 },
 "nbformat": 4,
 "nbformat_minor": 2
}
