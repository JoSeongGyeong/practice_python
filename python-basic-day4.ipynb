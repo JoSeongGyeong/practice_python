{
 "cells": [
  {
   "cell_type": "code",
   "execution_count": null,
   "metadata": {},
   "outputs": [],
   "source": [
    "# 아주 멋진 Awe-sum함수 만들기\n",
    "\n",
    "def awe_sum(a,b):\n",
    "    result = a+b\n",
    "    return result \n",
    "\n",
    "print (awe_sum(5,6))"
   ]
  },
  {
   "cell_type": "code",
   "execution_count": null,
   "metadata": {},
   "outputs": [],
   "source": [
    "# 더 멋진 Awe-sum함수 만들기\n",
    "import random\n",
    "\n",
    "def awe_sum(a,b):\n",
    "    result = 0\n",
    "    result = a + b\n",
    "    return result \n",
    "\n",
    "\n",
    "a = random.randint(1,100)\n",
    "b = random.randint(1,100)\n",
    "print (awe_sum(a,b))"
   ]
  },
  {
   "cell_type": "code",
   "execution_count": null,
   "metadata": {},
   "outputs": [],
   "source": [
    "# input이 없는 함수 만들기\n",
    "\n",
    "def print_hello():\n",
    "    return \"hello\"\n",
    "    \n",
    "print_hello()\n"
   ]
  },
  {
   "cell_type": "code",
   "execution_count": null,
   "metadata": {},
   "outputs": [],
   "source": [
    "a = print_hello()\n",
    "print(a)"
   ]
  },
  {
   "cell_type": "code",
   "execution_count": null,
   "metadata": {},
   "outputs": [],
   "source": [
    "# with out => w/o\n",
    "def func_wo_return(a):\n",
    "    print(\"hi, this is \" + str(a) + \" without return.\")\n",
    "    \n",
    "func_wo_return(\"나야나\")"
   ]
  },
  {
   "cell_type": "code",
   "execution_count": null,
   "metadata": {},
   "outputs": [],
   "source": [
    "# function with mutiple return\n",
    "\n",
    "def mul_return(a):\n",
    "    b = 0\n",
    "    b = a  + 100\n",
    "    return a, b\n",
    "\n",
    "mul_return(23)\n",
    "\n",
    "# 나올 때 tuple의 형태로 나오게 됨"
   ]
  },
  {
   "cell_type": "code",
   "execution_count": null,
   "metadata": {},
   "outputs": [],
   "source": [
    "# return 사용의 실제\n",
    "\n",
    "def id_check(id):\n",
    "    if id == \"admin\":\n",
    "        print(\"invalid id: admin\")\n",
    "        return\n",
    "    print(\"valid id: \", id)\n",
    "    \n",
    "id_check(\"admin\")"
   ]
  },
  {
   "cell_type": "code",
   "execution_count": null,
   "metadata": {},
   "outputs": [],
   "source": [
    "def id_check(id):\n",
    "    if id == \"admin\":\n",
    "        print(\"invalid id: admin\")\n",
    "        return\n",
    "    print(\"valid id: \", id)\n",
    "    \n",
    "id_check(\"Jo\")"
   ]
  },
  {
   "cell_type": "code",
   "execution_count": null,
   "metadata": {},
   "outputs": [],
   "source": [
    "#초기화된 매개변수를 갖고 싶을 때\n",
    "def say_hello(name = \"Fool\", nick = True):\n",
    "    print(\"Hi, \", name)\n",
    "    if nick == True:\n",
    "        print(\"야, 이 바보야.\")\n",
    "    else:\n",
    "        print(\"오, 멋짐 폭발!\")\n",
    "        \n",
    "say_hello()\n",
    "say_hello(\"Hong\")\n",
    "say_hello(\"Jo\", False)\n",
    "    "
   ]
  },
  {
   "cell_type": "code",
   "execution_count": null,
   "metadata": {},
   "outputs": [],
   "source": [
    "#arguments  : 매개변수가 여러개가 될 수 있다.(리스트 형태로 들어옴)\n",
    "def mul_sum(*nums):\n",
    "    result = 0\n",
    "    for num in nums:\n",
    "        result += num\n",
    "    return result\n",
    "    \n",
    "mul_sum(100, 234, 56, 34, 56, 75, 95)"
   ]
  },
  {
   "cell_type": "code",
   "execution_count": null,
   "metadata": {},
   "outputs": [],
   "source": [
    "# keyword arguments *이 붙어있으면 키워드 아규먼트츠이다. **은 쓰임새가 약간다르다.\n",
    "#**는 딕셔너리형태로 값이 저장됨  확장가능한 변수값은 맨 뒤에 받아야 함.\n",
    "\n",
    "def show_kwargs(**kwargs):\n",
    "    print(str(kwargs))\n",
    "    \n",
    "show_kwargs(하우=5, b=\"하이\")"
   ]
  },
  {
   "cell_type": "code",
   "execution_count": null,
   "metadata": {},
   "outputs": [],
   "source": [
    "def kwargs_url(server, port, **query):\n",
    "    url = \"http://\" + server + \":\" + port + \"?\"\n",
    "    for key in query.keys():\n",
    "        url += key + \"=\" + query[key] + \"&\"\n",
    "    return url\n",
    "\n",
    "kwargs_url(\"endic.naver.com/search.nhn\", \"80\", sLn=\"kr\", dicQuery='can', x=\"0\", y=\"0\", query='can', target=\"endic\",ie=\"utf8\", query_utf=\"\", isOnlyViewEE=\"N\" )"
   ]
  },
  {
   "cell_type": "code",
   "execution_count": null,
   "metadata": {},
   "outputs": [],
   "source": [
    "a = \"hello\"\n",
    "def glob_test(a):\n",
    "    a += \" world\"\n",
    "    return a\n",
    "\n",
    "b = glob_test(a)\n",
    "print(b)"
   ]
  },
  {
   "cell_type": "code",
   "execution_count": null,
   "metadata": {},
   "outputs": [],
   "source": [
    "# 함수에 쓰이는 파라미터는 내부에서 통일성만 있으면 되니 실제 명령어 중에서 통일성을 구할 필요는 없다.\n",
    "a = \"hello\"\n",
    "def glob_test(x):\n",
    "    x+= \" world\"\n",
    "    return x\n",
    "\n",
    "b = glob_test(a)\n",
    "print(b)"
   ]
  },
  {
   "cell_type": "code",
   "execution_count": null,
   "metadata": {},
   "outputs": [],
   "source": [
    "# 전역 변 수 : Globalize\n",
    "\n",
    "a = \"hello\"\n",
    "def glob_test(a):\n",
    "        a += \" world\"\n",
    "        return a\n",
    "    \n",
    "a = glob_test(a)\n",
    "print(a)"
   ]
  },
  {
   "cell_type": "code",
   "execution_count": null,
   "metadata": {},
   "outputs": [],
   "source": [
    "a = \"hello\"\n",
    "def glob_test(a):\n",
    "    global a\n",
    "    a += \" world\"\n",
    "    return a\n",
    "    \n",
    "glob_test(a)\n",
    "print(a)"
   ]
  },
  {
   "cell_type": "code",
   "execution_count": null,
   "metadata": {},
   "outputs": [],
   "source": [
    "#\"윤년이냐 함수\"\n",
    "# 윤년이냐 아니냐를 살펴보는 함수\n",
    "# 4로 나뉘어 떨어지면 윤년\n",
    "# 100으로 나뉘어 떨어지면 평년\n",
    "\n",
    "#나의 풀이\n",
    "def IsLeapYear(year):\n",
    "    return year%400==0 or(year%4 == 0 and year%100 != 0)\n",
    "\n",
    "\n",
    "year = int(input(\"윤년을 알고 싶어요. year??\"))\n",
    "IsLeapYear(year)"
   ]
  },
  {
   "cell_type": "code",
   "execution_count": null,
   "metadata": {},
   "outputs": [],
   "source": [
    "# 선생님 풀이 값\n",
    "\n",
    "def IsLeapYear(year):\n",
    "    return year%4==0 and (year%400 == 0 or year%100 != 0)\n",
    "\n",
    "IsLeapYear(2067)"
   ]
  },
  {
   "cell_type": "code",
   "execution_count": null,
   "metadata": {},
   "outputs": [],
   "source": [
    "# 최종 코딩\n",
    "\n",
    "def IsLeapYear(year):\n",
    "    if year % 400 == 0 or (year % 4 == 0 and year % 100 != 0):\n",
    "        return \"윤년\"\n",
    "    else:\n",
    "        return \"평년\"\n",
    "\n",
    "\n",
    "year = int(input(\"윤년을 알고 싶어요. year??\"))\n",
    "IsLeapYear(year)"
   ]
  },
  {
   "cell_type": "code",
   "execution_count": null,
   "metadata": {},
   "outputs": [],
   "source": [
    "import random\n",
    "answer = random.randint(1,3)\n",
    "\n",
    "def guesser(guess):\n",
    "    if guess == answer:\n",
    "        print(\"correct! the answer was \", str(answer))\n",
    "        return True\n",
    "    else:\n",
    "        print(\"Thant's not what I wanted!! Try again!!\")\n",
    "        return False\n",
    "\n",
    "\n",
    "while True:      \n",
    "    guess = input(\"맞춰보세요 숫자? \")\n",
    "    if guesser(guess):\n",
    "        break\n"
   ]
  },
  {
   "cell_type": "code",
   "execution_count": null,
   "metadata": {},
   "outputs": [],
   "source": [
    "#Recursive\n",
    "\n",
    "\n",
    "def recurse_beast(a):\n",
    "    if a == 0:\n",
    "        print(\"축복 끝!\")\n",
    "    else:\n",
    "        print(\"축복합니다!!!(%d 번 남았어요)\" % (a-1))\n",
    "        recurse_beast(a-1)\n",
    "        \n",
    "times = int(input(\"축복하고 싶은 횟수? \"))\n",
    "            \n",
    "recurse_beast(times)"
   ]
  },
  {
   "cell_type": "code",
   "execution_count": null,
   "metadata": {},
   "outputs": [],
   "source": [
    "# File I/O\n",
    "\n",
    "# ./성경이파일.txt (현재폴더에 저장)  //  ../성경이 파일 (부모폴더에)\n",
    "# ../../\n",
    "f = open(\"성경이파일.txt\", 'w')\n",
    "f.close()"
   ]
  },
  {
   "cell_type": "code",
   "execution_count": null,
   "metadata": {
    "collapsed": true
   },
   "outputs": [],
   "source": [
    "#Write text\n",
    "\n",
    "f = open(\"성경이파일.txt\", 'a')\n",
    "for i in range(1,11):\n",
    "    text = \"line %d. \\n\" % i\n",
    "    f.write(text)\n",
    "f.close()\n",
    "\n"
   ]
  },
  {
   "cell_type": "code",
   "execution_count": null,
   "metadata": {},
   "outputs": [],
   "source": [
    "#Read text\n",
    "f = open(\"성경이파일.txt\", 'r')\n",
    "text = f.readline()\n",
    "print(text)\n",
    "f.close"
   ]
  },
  {
   "cell_type": "code",
   "execution_count": null,
   "metadata": {},
   "outputs": [],
   "source": [
    "f = open('./성경이파일.txt', 'r')\n",
    "while True:\n",
    "    text = f.readline()\n",
    "    if not text:\n",
    "        break\n",
    "    print(text)\n",
    "    \n",
    "f.close()"
   ]
  },
  {
   "cell_type": "code",
   "execution_count": 2,
   "metadata": {},
   "outputs": [
    {
     "name": "stdout",
     "output_type": "stream",
     "text": [
      "line 1. \n",
      "\n",
      "line 2. \n",
      "\n",
      "line 3. \n",
      "\n",
      "line 4. \n",
      "\n",
      "line 5. \n",
      "\n",
      "line 6. \n",
      "\n",
      "line 7. \n",
      "\n",
      "line 8. \n",
      "\n",
      "line 9. \n",
      "\n",
      "line 10. \n",
      "\n",
      "line 1. \n",
      "\n",
      "line 2. \n",
      "\n",
      "line 3. \n",
      "\n",
      "line 4. \n",
      "\n",
      "line 5. \n",
      "\n",
      "line 6. \n",
      "\n",
      "line 7. \n",
      "\n",
      "line 8. \n",
      "\n",
      "line 9. \n",
      "\n",
      "line 10. \n",
      "\n"
     ]
    }
   ],
   "source": [
    "f = open(\"성경이파일.txt\", 'r')\n",
    "texts = f.readlines()\n",
    "for text in texts:\n",
    "    print(text)\n",
    "f.close()\n"
   ]
  },
  {
   "cell_type": "code",
   "execution_count": 5,
   "metadata": {
    "collapsed": true
   },
   "outputs": [],
   "source": [
    "f = open(\"성경이파일.txt\", 'a')\n",
    "for i in range(11,20+1):\n",
    "    text = \"line %d. \\n\" % i\n",
    "    f.write(text)\n",
    "f.close()"
   ]
  },
  {
   "cell_type": "code",
   "execution_count": 6,
   "metadata": {},
   "outputs": [
    {
     "name": "stdout",
     "output_type": "stream",
     "text": [
      "line 1. \n",
      "\n",
      "line 2. \n",
      "\n",
      "line 3. \n",
      "\n",
      "line 4. \n",
      "\n",
      "line 5. \n",
      "\n",
      "line 6. \n",
      "\n",
      "line 7. \n",
      "\n",
      "line 8. \n",
      "\n",
      "line 9. \n",
      "\n",
      "line 10. \n",
      "\n",
      "line 1. \n",
      "\n",
      "line 2. \n",
      "\n",
      "line 3. \n",
      "\n",
      "line 4. \n",
      "\n",
      "line 5. \n",
      "\n",
      "line 6. \n",
      "\n",
      "line 7. \n",
      "\n",
      "line 8. \n",
      "\n",
      "line 9. \n",
      "\n",
      "line 10. \n",
      "\n",
      "line 11. \n",
      "\n",
      "line 12. \n",
      "\n",
      "line 13. \n",
      "\n",
      "line 14. \n",
      "\n",
      "line 15. \n",
      "\n",
      "line 16. \n",
      "\n",
      "line 17. \n",
      "\n",
      "line 18. \n",
      "\n",
      "line 19. \n",
      "\n",
      "line 11. \n",
      "\n",
      "line 12. \n",
      "\n",
      "line 13. \n",
      "\n",
      "line 14. \n",
      "\n",
      "line 15. \n",
      "\n",
      "line 16. \n",
      "\n",
      "line 17. \n",
      "\n",
      "line 18. \n",
      "\n",
      "line 19. \n",
      "\n",
      "line 20. \n",
      "\n"
     ]
    }
   ],
   "source": [
    "f = open(\"성경이파일.txt\", 'r')\n",
    "texts = f.readlines()\n",
    "for text in texts:\n",
    "    print(text)\n",
    "f.close()"
   ]
  },
  {
   "cell_type": "code",
   "execution_count": 10,
   "metadata": {},
   "outputs": [
    {
     "name": "stdout",
     "output_type": "stream",
     "text": [
      "line 1. \n",
      "\n",
      "line 2. \n",
      "\n",
      "line 3. \n",
      "\n",
      "line 4. \n",
      "\n",
      "line 5. \n",
      "\n",
      "line 6. \n",
      "\n",
      "line 7. \n",
      "\n",
      "line 8. \n",
      "\n",
      "line 9. \n",
      "\n",
      "line 10. \n",
      "\n",
      "line 1. \n",
      "\n",
      "line 2. \n",
      "\n",
      "line 3. \n",
      "\n",
      "line 4. \n",
      "\n",
      "line 5. \n",
      "\n",
      "line 6. \n",
      "\n",
      "line 7. \n",
      "\n",
      "line 8. \n",
      "\n",
      "line 9. \n",
      "\n",
      "line 10. \n",
      "\n",
      "line 11. \n",
      "\n",
      "line 12. \n",
      "\n",
      "line 13. \n",
      "\n",
      "line 14. \n",
      "\n",
      "line 15. \n",
      "\n",
      "line 16. \n",
      "\n",
      "line 17. \n",
      "\n",
      "line 18. \n",
      "\n",
      "line 19. \n",
      "\n",
      "line 11. \n",
      "\n",
      "line 12. \n",
      "\n",
      "line 13. \n",
      "\n",
      "line 14. \n",
      "\n",
      "line 15. \n",
      "\n",
      "line 16. \n",
      "\n",
      "line 17. \n",
      "\n",
      "line 18. \n",
      "\n",
      "line 19. \n",
      "\n",
      "line 20. \n",
      "\n"
     ]
    }
   ],
   "source": [
    "# f.close()를 하지 않으려면 with를 써라.\n",
    "\n",
    "with open(\"성경이파일.txt\", 'r') as f:\n",
    "    texts = f.readlines()\n",
    "for text in texts:\n",
    "    print(text)"
   ]
  },
  {
   "cell_type": "code",
   "execution_count": 16,
   "metadata": {},
   "outputs": [
    {
     "name": "stdout",
     "output_type": "stream",
     "text": [
      "type some number: pastcampus\n",
      "I said type some NUMBER!!!!!\n",
      "잘 했어. 숫자를 쓰라고 했는데 3 라고 쓰다니!!\n"
     ]
    }
   ],
   "source": [
    "# Error Handle -Syntax\n",
    "\n",
    "try:\n",
    "    some_input = int(input(\"type some number: \"))\n",
    "except ValueError:\n",
    "    print(\"I said type some NUMBER!!!!!\")\n",
    "    \n",
    "print(\"잘 했어. 숫자를 쓰라고 했는데 %d 라고 쓰다니!!\" %  some_input)"
   ]
  },
  {
   "cell_type": "code",
   "execution_count": 18,
   "metadata": {},
   "outputs": [
    {
     "name": "stdout",
     "output_type": "stream",
     "text": [
      "type some number: past\n",
      "I said type some NUMBER!!!!!\n",
      "invalid literal for int() with base 10: 'past'\n"
     ]
    }
   ],
   "source": [
    "try:\n",
    "    some_input = int(input(\"type some number: \"))\n",
    "except ValueError as e:\n",
    "    print(\"I said type some NUMBER!!!!!\")\n",
    "    print(e)\n",
    "else:    \n",
    "    print(\"잘 했어. 숫자를 쓰라고 했는데 %d 라고 쓰다니!!\" %  some_input)"
   ]
  },
  {
   "cell_type": "code",
   "execution_count": 20,
   "metadata": {},
   "outputs": [
    {
     "name": "stdout",
     "output_type": "stream",
     "text": [
      "[Errno 2] No such file or directory: 'error_example.txt'\n",
      "파일이 없단다. 제발 있는 파일만 찾아라!!!\n"
     ]
    }
   ],
   "source": [
    "try:\n",
    "    f = open('error_example.txt', 'r')\n",
    "except FileNotFoundError as e:\n",
    "        print(e)\n",
    "        print(\"파일이 없단다. 제발 있는 파일만 찾아라!!!\")\n",
    "else:\n",
    "    text =  f.read()\n",
    "    f.close()"
   ]
  },
  {
   "cell_type": "code",
   "execution_count": null,
   "metadata": {
    "collapsed": true
   },
   "outputs": [],
   "source": [
    "# 에라스토테네스의 체 해보도록....[과제]\n",
    "# Some Guess [과제]\n",
    "\n",
    "# 사이트 추천 : hackerank.com  \n"
   ]
  }
 ],
 "metadata": {
  "kernelspec": {
   "display_name": "Python 3",
   "language": "python",
   "name": "python3"
  },
  "language_info": {
   "codemirror_mode": {
    "name": "ipython",
    "version": 3
   },
   "file_extension": ".py",
   "mimetype": "text/x-python",
   "name": "python",
   "nbconvert_exporter": "python",
   "pygments_lexer": "ipython3",
   "version": "3.6.2"
  }
 },
 "nbformat": 4,
 "nbformat_minor": 2
}
